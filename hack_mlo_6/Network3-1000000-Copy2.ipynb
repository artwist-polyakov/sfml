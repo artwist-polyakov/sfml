{
 "cells": [
  {
   "cell_type": "markdown",
   "metadata": {},
   "source": [
    "### Состав команды:\n",
    "\n",
    "- Поляков Александр (Aleksandr Polyakov)\n",
    "- Востриков Алексей (Alexey Vostrikoff)\n",
    "- Садыков Динар (Dinar_Sadykow)\n",
    "- Федотов Андрей (Andrei Fedotov)\n",
    "- Каштанкина Ксения\n",
    "- Овчинников Алексей (Aleksey)\n",
    "- Пьянков Алексей\n",
    "- Лукошко Роберт (Robert)\n",
    "- Поперечный Богдан (Bogdan2105)\n",
    "\n",
    "# Описание данных\n",
    "\n",
    "train - обучающая\n",
    "\n",
    "\n",
    "test - по которой строится лидерборд\n",
    "\n",
    "\n",
    "*.pckl - это полные файлы (запикленные датафреймы) train_sample.pckl.zip - первые 100000 строк трейна (запикленные датафреймы)\n",
    "\n",
    "\n",
    "*.pckl - это pickle-файлы при открытии которых открываются в датафреймы\n",
    "\n",
    "\n",
    "вас может удивить большое число данных, это сделано специально в реальном мире вам доступна куча данных, потому вам всегда надо решать какие из них важны а какие нет трейн и тест фактически продублированы CSV файлами в которых есть только часть столбцов (чтоб можно было считать кусочками) так же есть первые 100000 строк трейна запикленных отдельно\n",
    "\n",
    "\n",
    "использовать все данные не всегда обязательно, не исключено наличие мусора который вам не понадобится\n",
    "\n",
    "train_4_col_2.csv.zip - кусок TRAIN, который содержит id, category, subcategory (строки все)\n",
    "\n",
    "test_3_col_2.csv.zip - кусок TEST, который содержит id, category, subcategory (строки все)\n",
    "\n",
    "train_4_col_3.csv.zip - кусок TRAIN, который содержит id, fields (строки все)\n",
    "\n",
    "test_3_col_3.csv.zip - кусок TEST, который содержит id, fields (строки все)\n",
    "\n",
    "train_sample.pckl.zip - кусок TRAIN, который содержит все поля, но только первые 100000 строк\n",
    "\n",
    "train_4_col.csv.zip - кусок TRAIN, который содержит id, name, description, price (строки все)\n",
    "\n",
    "test_4_col.csv.zip - кусок TEST, который содержит id, name, description (строки все)"
   ]
  },
  {
   "cell_type": "code",
   "execution_count": null,
   "metadata": {},
   "outputs": [],
   "source": []
  },
  {
   "cell_type": "code",
   "execution_count": null,
   "metadata": {},
   "outputs": [],
   "source": []
  },
  {
   "cell_type": "code",
   "execution_count": null,
   "metadata": {},
   "outputs": [],
   "source": []
  },
  {
   "cell_type": "code",
   "execution_count": null,
   "metadata": {},
   "outputs": [],
   "source": []
  },
  {
   "cell_type": "code",
   "execution_count": null,
   "metadata": {},
   "outputs": [],
   "source": []
  },
  {
   "cell_type": "code",
   "execution_count": 1,
   "metadata": {},
   "outputs": [],
   "source": [
    "import pandas as pd\n",
    "import numpy as np\n",
    "import matplotlib.pyplot as plt\n",
    "import pickle"
   ]
  },
  {
   "cell_type": "code",
   "execution_count": 2,
   "metadata": {},
   "outputs": [],
   "source": [
    "train_cat_subcat = pd.read_csv('./hack/train_4_col_2.csv', sep='\\t').set_index('Unnamed: 0')"
   ]
  },
  {
   "cell_type": "code",
   "execution_count": 3,
   "metadata": {},
   "outputs": [],
   "source": [
    "test_cat_subcat = pd.read_csv('./hack/test_3_col_2.csv', sep='\\t').set_index('Unnamed: 0')"
   ]
  },
  {
   "cell_type": "code",
   "execution_count": 4,
   "metadata": {},
   "outputs": [],
   "source": [
    "train_desc_price = pd.read_csv('./hack/train_4_col.csv', sep='\\t').set_index('Unnamed: 0')"
   ]
  },
  {
   "cell_type": "code",
   "execution_count": 5,
   "metadata": {},
   "outputs": [
    {
     "data": {
      "text/html": [
       "<div>\n",
       "<style scoped>\n",
       "    .dataframe tbody tr th:only-of-type {\n",
       "        vertical-align: middle;\n",
       "    }\n",
       "\n",
       "    .dataframe tbody tr th {\n",
       "        vertical-align: top;\n",
       "    }\n",
       "\n",
       "    .dataframe thead th {\n",
       "        text-align: right;\n",
       "    }\n",
       "</style>\n",
       "<table border=\"1\" class=\"dataframe\">\n",
       "  <thead>\n",
       "    <tr style=\"text-align: right;\">\n",
       "      <th></th>\n",
       "      <th>id</th>\n",
       "      <th>category</th>\n",
       "      <th>subcategory</th>\n",
       "      <th>name</th>\n",
       "      <th>description</th>\n",
       "      <th>price</th>\n",
       "    </tr>\n",
       "  </thead>\n",
       "  <tbody>\n",
       "    <tr>\n",
       "      <th>0</th>\n",
       "      <td>3edeb34cf93f490ff760af85</td>\n",
       "      <td>9</td>\n",
       "      <td>914</td>\n",
       "      <td>Сумка DG</td>\n",
       "      <td>NaN</td>\n",
       "      <td>199900</td>\n",
       "    </tr>\n",
       "    <tr>\n",
       "      <th>1</th>\n",
       "      <td>c98febd50dad3cc0ffc86085</td>\n",
       "      <td>22</td>\n",
       "      <td>2202</td>\n",
       "      <td>Комплект</td>\n",
       "      <td>8-12 лет</td>\n",
       "      <td>35000</td>\n",
       "    </tr>\n",
       "    <tr>\n",
       "      <th>2</th>\n",
       "      <td>ade01e13912a46a99134cc75</td>\n",
       "      <td>22</td>\n",
       "      <td>2204</td>\n",
       "      <td>Пальтишко демисезонное</td>\n",
       "      <td>На девочку 1,5 г,состояние хорошее</td>\n",
       "      <td>30000</td>\n",
       "    </tr>\n",
       "    <tr>\n",
       "      <th>3</th>\n",
       "      <td>ab3e6941c11304c1519aef75</td>\n",
       "      <td>22</td>\n",
       "      <td>2209</td>\n",
       "      <td>Attipas</td>\n",
       "      <td>Размер-135mm, euro-22.5.Прочная, мягкая, не ск...</td>\n",
       "      <td>80000</td>\n",
       "    </tr>\n",
       "    <tr>\n",
       "      <th>4</th>\n",
       "      <td>252452a91c944a22c276d995</td>\n",
       "      <td>22</td>\n",
       "      <td>2204</td>\n",
       "      <td>Жилет теплый</td>\n",
       "      <td>NaN</td>\n",
       "      <td>50000</td>\n",
       "    </tr>\n",
       "  </tbody>\n",
       "</table>\n",
       "</div>"
      ],
      "text/plain": [
       "                         id  category  subcategory                    name  \\\n",
       "0  3edeb34cf93f490ff760af85         9          914                Сумка DG   \n",
       "1  c98febd50dad3cc0ffc86085        22         2202                Комплект   \n",
       "2  ade01e13912a46a99134cc75        22         2204  Пальтишко демисезонное   \n",
       "3  ab3e6941c11304c1519aef75        22         2209                 Attipas   \n",
       "4  252452a91c944a22c276d995        22         2204            Жилет теплый   \n",
       "\n",
       "                                         description   price  \n",
       "0                                                NaN  199900  \n",
       "1                                           8-12 лет   35000  \n",
       "2                На девочку 1,5 г,состояние хорошее    30000  \n",
       "3  Размер-135mm, euro-22.5.Прочная, мягкая, не ск...   80000  \n",
       "4                                                NaN   50000  "
      ]
     },
     "execution_count": 5,
     "metadata": {},
     "output_type": "execute_result"
    }
   ],
   "source": [
    "train_cat_subcat = train_cat_subcat.merge(train_desc_price, on='id')\n",
    "train_cat_subcat.head()"
   ]
  },
  {
   "cell_type": "code",
   "execution_count": 6,
   "metadata": {},
   "outputs": [],
   "source": [
    "targets = train_cat_subcat['price'].values[:1000000]"
   ]
  },
  {
   "cell_type": "code",
   "execution_count": 7,
   "metadata": {},
   "outputs": [
    {
     "data": {
      "text/plain": [
       "(1000000,)"
      ]
     },
     "execution_count": 7,
     "metadata": {},
     "output_type": "execute_result"
    }
   ],
   "source": [
    "targets.shape"
   ]
  },
  {
   "cell_type": "code",
   "execution_count": 8,
   "metadata": {},
   "outputs": [],
   "source": [
    "list_pickle_path = 'clean_train_vacs.pkl'\n",
    "with open(list_pickle_path, 'rb') as f:\n",
    "    clean_train_vacs = pickle.load(f)\n",
    "f.close()"
   ]
  },
  {
   "cell_type": "code",
   "execution_count": 10,
   "metadata": {},
   "outputs": [
    {
     "name": "stdout",
     "output_type": "stream",
     "text": [
      "Фигачим Bag of words...\n",
      "\n",
      "CPU times: user 17.2 s, sys: 11.7 s, total: 28.8 s\n",
      "Wall time: 30.1 s\n"
     ]
    }
   ],
   "source": [
    "%%time\n",
    "print ('Фигачим Bag of words...\\n')\n",
    "from sklearn.feature_extraction.text import CountVectorizer \n",
    "vectorizer = CountVectorizer(analyzer = \"word\",   \n",
    "                             tokenizer = None,    \n",
    "                             preprocessor = None, \n",
    "                             stop_words = None,   \n",
    "                             max_features = 10000) \n",
    "\n",
    "\n",
    "# 5 000 фич считались 20.1 сек\n",
    "# прогоняем полученный в прошлом пункте лист с текстами через fit_transform() \n",
    "train_data_features = vectorizer.fit_transform(clean_train_vacs[:1000000])\n",
    "\n",
    "# Переделаем полученные свойства в array \n",
    "train_data_features = train_data_features.toarray()"
   ]
  },
  {
   "cell_type": "code",
   "execution_count": 11,
   "metadata": {},
   "outputs": [
    {
     "data": {
      "text/plain": [
       "(1000000, 10000)"
      ]
     },
     "execution_count": 11,
     "metadata": {},
     "output_type": "execute_result"
    }
   ],
   "source": [
    "train_data_features.shape"
   ]
  },
  {
   "cell_type": "code",
   "execution_count": 12,
   "metadata": {},
   "outputs": [],
   "source": [
    "train_cat_subcat2 = pd.read_csv('./hack/train_4_col_2.csv', sep='\\t').set_index('Unnamed: 0')\n"
   ]
  },
  {
   "cell_type": "code",
   "execution_count": 13,
   "metadata": {},
   "outputs": [
    {
     "name": "stdout",
     "output_type": "stream",
     "text": [
      "(1748890, 3)\n",
      "(749525, 3)\n"
     ]
    }
   ],
   "source": [
    "print(train_cat_subcat2.shape)\n",
    "print(test_cat_subcat.shape)"
   ]
  },
  {
   "cell_type": "code",
   "execution_count": 14,
   "metadata": {},
   "outputs": [
    {
     "data": {
      "text/html": [
       "<div>\n",
       "<style scoped>\n",
       "    .dataframe tbody tr th:only-of-type {\n",
       "        vertical-align: middle;\n",
       "    }\n",
       "\n",
       "    .dataframe tbody tr th {\n",
       "        vertical-align: top;\n",
       "    }\n",
       "\n",
       "    .dataframe thead th {\n",
       "        text-align: right;\n",
       "    }\n",
       "</style>\n",
       "<table border=\"1\" class=\"dataframe\">\n",
       "  <thead>\n",
       "    <tr style=\"text-align: right;\">\n",
       "      <th></th>\n",
       "      <th>id</th>\n",
       "      <th>category</th>\n",
       "      <th>subcategory</th>\n",
       "    </tr>\n",
       "    <tr>\n",
       "      <th>Unnamed: 0</th>\n",
       "      <th></th>\n",
       "      <th></th>\n",
       "      <th></th>\n",
       "    </tr>\n",
       "  </thead>\n",
       "  <tbody>\n",
       "    <tr>\n",
       "      <th>4</th>\n",
       "      <td>285ea2e9935ccdeb8378c6a5</td>\n",
       "      <td>6</td>\n",
       "      <td>603</td>\n",
       "    </tr>\n",
       "    <tr>\n",
       "      <th>9</th>\n",
       "      <td>adfb73820bbb831257df6e95</td>\n",
       "      <td>2</td>\n",
       "      <td>203</td>\n",
       "    </tr>\n",
       "    <tr>\n",
       "      <th>15</th>\n",
       "      <td>783025601c36202f633fc6a5</td>\n",
       "      <td>1</td>\n",
       "      <td>116</td>\n",
       "    </tr>\n",
       "    <tr>\n",
       "      <th>19</th>\n",
       "      <td>2f0cd2d2e15dc90afd847f95</td>\n",
       "      <td>10</td>\n",
       "      <td>1009</td>\n",
       "    </tr>\n",
       "    <tr>\n",
       "      <th>20</th>\n",
       "      <td>5c23a37902855a20172845a5</td>\n",
       "      <td>11</td>\n",
       "      <td>1104</td>\n",
       "    </tr>\n",
       "  </tbody>\n",
       "</table>\n",
       "</div>"
      ],
      "text/plain": [
       "                                  id  category  subcategory\n",
       "Unnamed: 0                                                 \n",
       "4           285ea2e9935ccdeb8378c6a5         6          603\n",
       "9           adfb73820bbb831257df6e95         2          203\n",
       "15          783025601c36202f633fc6a5         1          116\n",
       "19          2f0cd2d2e15dc90afd847f95        10         1009\n",
       "20          5c23a37902855a20172845a5        11         1104"
      ]
     },
     "execution_count": 14,
     "metadata": {},
     "output_type": "execute_result"
    }
   ],
   "source": [
    "test_cat_subcat.head()"
   ]
  },
  {
   "cell_type": "code",
   "execution_count": 15,
   "metadata": {},
   "outputs": [],
   "source": [
    "train_cat_subcat2['sample'] = 'train'\n",
    "test_cat_subcat['sample'] = 'test'"
   ]
  },
  {
   "cell_type": "code",
   "execution_count": 16,
   "metadata": {},
   "outputs": [
    {
     "data": {
      "text/html": [
       "<div>\n",
       "<style scoped>\n",
       "    .dataframe tbody tr th:only-of-type {\n",
       "        vertical-align: middle;\n",
       "    }\n",
       "\n",
       "    .dataframe tbody tr th {\n",
       "        vertical-align: top;\n",
       "    }\n",
       "\n",
       "    .dataframe thead th {\n",
       "        text-align: right;\n",
       "    }\n",
       "</style>\n",
       "<table border=\"1\" class=\"dataframe\">\n",
       "  <thead>\n",
       "    <tr style=\"text-align: right;\">\n",
       "      <th></th>\n",
       "      <th>id</th>\n",
       "      <th>category</th>\n",
       "      <th>subcategory</th>\n",
       "      <th>sample</th>\n",
       "    </tr>\n",
       "    <tr>\n",
       "      <th>Unnamed: 0</th>\n",
       "      <th></th>\n",
       "      <th></th>\n",
       "      <th></th>\n",
       "      <th></th>\n",
       "    </tr>\n",
       "  </thead>\n",
       "  <tbody>\n",
       "    <tr>\n",
       "      <th>0</th>\n",
       "      <td>3edeb34cf93f490ff760af85</td>\n",
       "      <td>9</td>\n",
       "      <td>914</td>\n",
       "      <td>train</td>\n",
       "    </tr>\n",
       "    <tr>\n",
       "      <th>1</th>\n",
       "      <td>c98febd50dad3cc0ffc86085</td>\n",
       "      <td>22</td>\n",
       "      <td>2202</td>\n",
       "      <td>train</td>\n",
       "    </tr>\n",
       "    <tr>\n",
       "      <th>2</th>\n",
       "      <td>ade01e13912a46a99134cc75</td>\n",
       "      <td>22</td>\n",
       "      <td>2204</td>\n",
       "      <td>train</td>\n",
       "    </tr>\n",
       "    <tr>\n",
       "      <th>3</th>\n",
       "      <td>ab3e6941c11304c1519aef75</td>\n",
       "      <td>22</td>\n",
       "      <td>2209</td>\n",
       "      <td>train</td>\n",
       "    </tr>\n",
       "    <tr>\n",
       "      <th>5</th>\n",
       "      <td>252452a91c944a22c276d995</td>\n",
       "      <td>22</td>\n",
       "      <td>2204</td>\n",
       "      <td>train</td>\n",
       "    </tr>\n",
       "  </tbody>\n",
       "</table>\n",
       "</div>"
      ],
      "text/plain": [
       "                                  id  category  subcategory sample\n",
       "Unnamed: 0                                                        \n",
       "0           3edeb34cf93f490ff760af85         9          914  train\n",
       "1           c98febd50dad3cc0ffc86085        22         2202  train\n",
       "2           ade01e13912a46a99134cc75        22         2204  train\n",
       "3           ab3e6941c11304c1519aef75        22         2209  train\n",
       "5           252452a91c944a22c276d995        22         2204  train"
      ]
     },
     "execution_count": 16,
     "metadata": {},
     "output_type": "execute_result"
    }
   ],
   "source": [
    "dft = pd.concat([train_cat_subcat2, test_cat_subcat], axis = 0)\n",
    "dft.head()"
   ]
  },
  {
   "cell_type": "code",
   "execution_count": 17,
   "metadata": {},
   "outputs": [
    {
     "data": {
      "text/plain": [
       "(2498415, 4)"
      ]
     },
     "execution_count": 17,
     "metadata": {},
     "output_type": "execute_result"
    }
   ],
   "source": [
    "dft.shape"
   ]
  },
  {
   "cell_type": "code",
   "execution_count": 18,
   "metadata": {},
   "outputs": [],
   "source": [
    "ohe = pd.get_dummies(dft.drop('id', axis = 1), columns=['category','subcategory'])"
   ]
  },
  {
   "cell_type": "code",
   "execution_count": 19,
   "metadata": {},
   "outputs": [
    {
     "data": {
      "text/html": [
       "<div>\n",
       "<style scoped>\n",
       "    .dataframe tbody tr th:only-of-type {\n",
       "        vertical-align: middle;\n",
       "    }\n",
       "\n",
       "    .dataframe tbody tr th {\n",
       "        vertical-align: top;\n",
       "    }\n",
       "\n",
       "    .dataframe thead th {\n",
       "        text-align: right;\n",
       "    }\n",
       "</style>\n",
       "<table border=\"1\" class=\"dataframe\">\n",
       "  <thead>\n",
       "    <tr style=\"text-align: right;\">\n",
       "      <th></th>\n",
       "      <th>sample</th>\n",
       "      <th>category_1</th>\n",
       "      <th>category_2</th>\n",
       "      <th>category_3</th>\n",
       "      <th>category_4</th>\n",
       "      <th>category_5</th>\n",
       "      <th>category_6</th>\n",
       "      <th>category_7</th>\n",
       "      <th>category_8</th>\n",
       "      <th>category_9</th>\n",
       "      <th>...</th>\n",
       "      <th>subcategory_2210</th>\n",
       "      <th>subcategory_2211</th>\n",
       "      <th>subcategory_2212</th>\n",
       "      <th>subcategory_2213</th>\n",
       "      <th>subcategory_2214</th>\n",
       "      <th>subcategory_2215</th>\n",
       "      <th>subcategory_2216</th>\n",
       "      <th>subcategory_2301</th>\n",
       "      <th>subcategory_10001</th>\n",
       "      <th>subcategory_10002</th>\n",
       "    </tr>\n",
       "    <tr>\n",
       "      <th>Unnamed: 0</th>\n",
       "      <th></th>\n",
       "      <th></th>\n",
       "      <th></th>\n",
       "      <th></th>\n",
       "      <th></th>\n",
       "      <th></th>\n",
       "      <th></th>\n",
       "      <th></th>\n",
       "      <th></th>\n",
       "      <th></th>\n",
       "      <th></th>\n",
       "      <th></th>\n",
       "      <th></th>\n",
       "      <th></th>\n",
       "      <th></th>\n",
       "      <th></th>\n",
       "      <th></th>\n",
       "      <th></th>\n",
       "      <th></th>\n",
       "      <th></th>\n",
       "      <th></th>\n",
       "    </tr>\n",
       "  </thead>\n",
       "  <tbody>\n",
       "    <tr>\n",
       "      <th>0</th>\n",
       "      <td>train</td>\n",
       "      <td>0</td>\n",
       "      <td>0</td>\n",
       "      <td>0</td>\n",
       "      <td>0</td>\n",
       "      <td>0</td>\n",
       "      <td>0</td>\n",
       "      <td>0</td>\n",
       "      <td>0</td>\n",
       "      <td>1</td>\n",
       "      <td>...</td>\n",
       "      <td>0</td>\n",
       "      <td>0</td>\n",
       "      <td>0</td>\n",
       "      <td>0</td>\n",
       "      <td>0</td>\n",
       "      <td>0</td>\n",
       "      <td>0</td>\n",
       "      <td>0</td>\n",
       "      <td>0</td>\n",
       "      <td>0</td>\n",
       "    </tr>\n",
       "    <tr>\n",
       "      <th>1</th>\n",
       "      <td>train</td>\n",
       "      <td>0</td>\n",
       "      <td>0</td>\n",
       "      <td>0</td>\n",
       "      <td>0</td>\n",
       "      <td>0</td>\n",
       "      <td>0</td>\n",
       "      <td>0</td>\n",
       "      <td>0</td>\n",
       "      <td>0</td>\n",
       "      <td>...</td>\n",
       "      <td>0</td>\n",
       "      <td>0</td>\n",
       "      <td>0</td>\n",
       "      <td>0</td>\n",
       "      <td>0</td>\n",
       "      <td>0</td>\n",
       "      <td>0</td>\n",
       "      <td>0</td>\n",
       "      <td>0</td>\n",
       "      <td>0</td>\n",
       "    </tr>\n",
       "    <tr>\n",
       "      <th>2</th>\n",
       "      <td>train</td>\n",
       "      <td>0</td>\n",
       "      <td>0</td>\n",
       "      <td>0</td>\n",
       "      <td>0</td>\n",
       "      <td>0</td>\n",
       "      <td>0</td>\n",
       "      <td>0</td>\n",
       "      <td>0</td>\n",
       "      <td>0</td>\n",
       "      <td>...</td>\n",
       "      <td>0</td>\n",
       "      <td>0</td>\n",
       "      <td>0</td>\n",
       "      <td>0</td>\n",
       "      <td>0</td>\n",
       "      <td>0</td>\n",
       "      <td>0</td>\n",
       "      <td>0</td>\n",
       "      <td>0</td>\n",
       "      <td>0</td>\n",
       "    </tr>\n",
       "    <tr>\n",
       "      <th>3</th>\n",
       "      <td>train</td>\n",
       "      <td>0</td>\n",
       "      <td>0</td>\n",
       "      <td>0</td>\n",
       "      <td>0</td>\n",
       "      <td>0</td>\n",
       "      <td>0</td>\n",
       "      <td>0</td>\n",
       "      <td>0</td>\n",
       "      <td>0</td>\n",
       "      <td>...</td>\n",
       "      <td>0</td>\n",
       "      <td>0</td>\n",
       "      <td>0</td>\n",
       "      <td>0</td>\n",
       "      <td>0</td>\n",
       "      <td>0</td>\n",
       "      <td>0</td>\n",
       "      <td>0</td>\n",
       "      <td>0</td>\n",
       "      <td>0</td>\n",
       "    </tr>\n",
       "    <tr>\n",
       "      <th>5</th>\n",
       "      <td>train</td>\n",
       "      <td>0</td>\n",
       "      <td>0</td>\n",
       "      <td>0</td>\n",
       "      <td>0</td>\n",
       "      <td>0</td>\n",
       "      <td>0</td>\n",
       "      <td>0</td>\n",
       "      <td>0</td>\n",
       "      <td>0</td>\n",
       "      <td>...</td>\n",
       "      <td>0</td>\n",
       "      <td>0</td>\n",
       "      <td>0</td>\n",
       "      <td>0</td>\n",
       "      <td>0</td>\n",
       "      <td>0</td>\n",
       "      <td>0</td>\n",
       "      <td>0</td>\n",
       "      <td>0</td>\n",
       "      <td>0</td>\n",
       "    </tr>\n",
       "  </tbody>\n",
       "</table>\n",
       "<p>5 rows × 275 columns</p>\n",
       "</div>"
      ],
      "text/plain": [
       "           sample  category_1  category_2  category_3  category_4  category_5  \\\n",
       "Unnamed: 0                                                                      \n",
       "0           train           0           0           0           0           0   \n",
       "1           train           0           0           0           0           0   \n",
       "2           train           0           0           0           0           0   \n",
       "3           train           0           0           0           0           0   \n",
       "5           train           0           0           0           0           0   \n",
       "\n",
       "            category_6  category_7  category_8  category_9        ...          \\\n",
       "Unnamed: 0                                                        ...           \n",
       "0                    0           0           0           1        ...           \n",
       "1                    0           0           0           0        ...           \n",
       "2                    0           0           0           0        ...           \n",
       "3                    0           0           0           0        ...           \n",
       "5                    0           0           0           0        ...           \n",
       "\n",
       "            subcategory_2210  subcategory_2211  subcategory_2212  \\\n",
       "Unnamed: 0                                                         \n",
       "0                          0                 0                 0   \n",
       "1                          0                 0                 0   \n",
       "2                          0                 0                 0   \n",
       "3                          0                 0                 0   \n",
       "5                          0                 0                 0   \n",
       "\n",
       "            subcategory_2213  subcategory_2214  subcategory_2215  \\\n",
       "Unnamed: 0                                                         \n",
       "0                          0                 0                 0   \n",
       "1                          0                 0                 0   \n",
       "2                          0                 0                 0   \n",
       "3                          0                 0                 0   \n",
       "5                          0                 0                 0   \n",
       "\n",
       "            subcategory_2216  subcategory_2301  subcategory_10001  \\\n",
       "Unnamed: 0                                                          \n",
       "0                          0                 0                  0   \n",
       "1                          0                 0                  0   \n",
       "2                          0                 0                  0   \n",
       "3                          0                 0                  0   \n",
       "5                          0                 0                  0   \n",
       "\n",
       "            subcategory_10002  \n",
       "Unnamed: 0                     \n",
       "0                           0  \n",
       "1                           0  \n",
       "2                           0  \n",
       "3                           0  \n",
       "5                           0  \n",
       "\n",
       "[5 rows x 275 columns]"
      ]
     },
     "execution_count": 19,
     "metadata": {},
     "output_type": "execute_result"
    }
   ],
   "source": [
    "ohe.head()"
   ]
  },
  {
   "cell_type": "code",
   "execution_count": 20,
   "metadata": {},
   "outputs": [
    {
     "name": "stdout",
     "output_type": "stream",
     "text": [
      "(1000000, 274)\n",
      "(749525, 274)\n"
     ]
    }
   ],
   "source": [
    "ohe_train = ohe[ohe['sample'] == 'train'].drop('sample', axis = 1).values[:1000000]\n",
    "ohe_test = ohe[ohe['sample'] == 'test'].drop('sample', axis = 1).values\n",
    "print(ohe_train.shape)\n",
    "print(ohe_test.shape)"
   ]
  },
  {
   "cell_type": "code",
   "execution_count": 21,
   "metadata": {},
   "outputs": [
    {
     "name": "stdout",
     "output_type": "stream",
     "text": [
      "(1000000, 10274)\n"
     ]
    }
   ],
   "source": [
    "train_data_features = np.column_stack((train_data_features, ohe_train))\n",
    "print(train_data_features.shape)"
   ]
  },
  {
   "cell_type": "code",
   "execution_count": 22,
   "metadata": {},
   "outputs": [],
   "source": [
    "del ohe_train"
   ]
  },
  {
   "cell_type": "code",
   "execution_count": 23,
   "metadata": {},
   "outputs": [
    {
     "name": "stderr",
     "output_type": "stream",
     "text": [
      "/Users/aleksandrpolakov/anaconda3/lib/python3.6/site-packages/h5py/__init__.py:36: FutureWarning: Conversion of the second argument of issubdtype from `float` to `np.floating` is deprecated. In future, it will be treated as `np.float64 == np.dtype(float).type`.\n",
      "  from ._conv import register_converters as _register_converters\n",
      "Using TensorFlow backend.\n"
     ]
    }
   ],
   "source": [
    "from keras import models\n",
    "from keras import layers\n",
    "from keras.optimizers import RMSprop\n",
    "def build_model(): \n",
    "    \"\"\"\n",
    "    так как нам потребуется несколько экземпляров одной и той же модели,\n",
    "    мы определили функцию для её создания\n",
    "    \"\"\"\n",
    "    model = models.Sequential()\n",
    "    model.add(layers.Dense(512, activation='relu', input_shape=(train_data_features.shape[1],)))\n",
    "    model.add(layers.Dense(512, activation='relu'))\n",
    "    model.add(layers.Dense(1024, activation='relu'))    \n",
    "    model.add(layers.Dense(1))\n",
    "    model.compile(optimizer=RMSprop(lr=5e-2), loss='mean_squared_logarithmic_error', metrics=['mean_squared_logarithmic_error'])\n",
    "    return model"
   ]
  },
  {
   "cell_type": "code",
   "execution_count": 24,
   "metadata": {
    "scrolled": true
   },
   "outputs": [
    {
     "name": "stdout",
     "output_type": "stream",
     "text": [
      "Epoch 1/20\n",
      "1000000/1000000 [==============================] - 446s 446us/step - loss: 2.7292 - mean_squared_logarithmic_error: 2.7292\n",
      "Epoch 2/20\n",
      "1000000/1000000 [==============================] - 405s 405us/step - loss: 2.4187 - mean_squared_logarithmic_error: 2.4187\n",
      "Epoch 3/20\n",
      "1000000/1000000 [==============================] - 407s 407us/step - loss: 2.3436 - mean_squared_logarithmic_error: 2.3436\n",
      "Epoch 4/20\n",
      "1000000/1000000 [==============================] - 414s 414us/step - loss: 2.2594 - mean_squared_logarithmic_error: 2.2594\n",
      "Epoch 5/20\n",
      "1000000/1000000 [==============================] - 404s 404us/step - loss: 2.1755 - mean_squared_logarithmic_error: 2.1755\n",
      "Epoch 6/20\n",
      "1000000/1000000 [==============================] - 422s 422us/step - loss: 2.1398 - mean_squared_logarithmic_error: 2.1398\n",
      "Epoch 7/20\n",
      "1000000/1000000 [==============================] - 413s 413us/step - loss: 2.0743 - mean_squared_logarithmic_error: 2.0743\n",
      "Epoch 8/20\n",
      "1000000/1000000 [==============================] - 412s 412us/step - loss: 2.0127 - mean_squared_logarithmic_error: 2.0127\n",
      "Epoch 9/20\n",
      "1000000/1000000 [==============================] - 419s 419us/step - loss: 1.9603 - mean_squared_logarithmic_error: 1.9603\n",
      "Epoch 10/20\n",
      "1000000/1000000 [==============================] - 417s 417us/step - loss: 1.9153 - mean_squared_logarithmic_error: 1.9153\n",
      "Epoch 11/20\n",
      "1000000/1000000 [==============================] - 411s 411us/step - loss: 1.8933 - mean_squared_logarithmic_error: 1.8933\n",
      "Epoch 12/20\n",
      "1000000/1000000 [==============================] - 425s 425us/step - loss: 1.8644 - mean_squared_logarithmic_error: 1.8644\n",
      "Epoch 13/20\n",
      "1000000/1000000 [==============================] - 434s 434us/step - loss: 1.8659 - mean_squared_logarithmic_error: 1.8659\n",
      "Epoch 14/20\n",
      "1000000/1000000 [==============================] - 413s 413us/step - loss: 1.8463 - mean_squared_logarithmic_error: 1.8463\n",
      "Epoch 15/20\n",
      "1000000/1000000 [==============================] - 408s 408us/step - loss: 1.8080 - mean_squared_logarithmic_error: 1.8080\n",
      "Epoch 16/20\n",
      "1000000/1000000 [==============================] - 408s 408us/step - loss: 1.8211 - mean_squared_logarithmic_error: 1.8211\n",
      "Epoch 17/20\n",
      "1000000/1000000 [==============================] - 421s 421us/step - loss: 1.8177 - mean_squared_logarithmic_error: 1.8177\n",
      "Epoch 18/20\n",
      "1000000/1000000 [==============================] - 424s 424us/step - loss: 1.7934 - mean_squared_logarithmic_error: 1.7934\n",
      "Epoch 19/20\n",
      "1000000/1000000 [==============================] - 411s 411us/step - loss: 1.8048 - mean_squared_logarithmic_error: 1.8048\n",
      "Epoch 20/20\n",
      "1000000/1000000 [==============================] - 411s 411us/step - loss: 1.7920 - mean_squared_logarithmic_error: 1.7920\n"
     ]
    },
    {
     "data": {
      "text/plain": [
       "<keras.callbacks.History at 0x1558aac18>"
      ]
     },
     "execution_count": 24,
     "metadata": {},
     "output_type": "execute_result"
    }
   ],
   "source": [
    "model = build_model()\n",
    "model.fit(train_data_features, targets, epochs = 20, batch_size = 256, verbose = 1)"
   ]
  },
  {
   "cell_type": "code",
   "execution_count": 25,
   "metadata": {},
   "outputs": [],
   "source": [
    "del targets\n",
    "del train_data_features\n",
    "del clean_train_vacs"
   ]
  },
  {
   "cell_type": "code",
   "execution_count": 26,
   "metadata": {},
   "outputs": [],
   "source": [
    "list_pickle_path = '20_epochs_wide_model_lr=0.05_1000000.pkl'\n",
    "list_pickle = open(list_pickle_path, 'wb')\n",
    "pickle.dump(model, list_pickle)\n",
    "list_pickle.close()"
   ]
  },
  {
   "cell_type": "code",
   "execution_count": 27,
   "metadata": {},
   "outputs": [
    {
     "name": "stdout",
     "output_type": "stream",
     "text": [
      "(749525, 10000)\n",
      "CPU times: user 15.4 s, sys: 6.94 s, total: 22.3 s\n",
      "Wall time: 22.6 s\n"
     ]
    }
   ],
   "source": [
    "%%time\n",
    "list_pickle_path = 'clean_test_vacs.pkl'\n",
    "with open(list_pickle_path, 'rb') as f:\n",
    "    clean_test_vacs = pickle.load(f)\n",
    "f.close()\n",
    "\n",
    "test_data_features = vectorizer.transform(clean_test_vacs)\n",
    "test_data_features = test_data_features.toarray()\n",
    "print(test_data_features.shape)"
   ]
  },
  {
   "cell_type": "code",
   "execution_count": 28,
   "metadata": {},
   "outputs": [],
   "source": [
    "del clean_test_vacs"
   ]
  },
  {
   "cell_type": "code",
   "execution_count": 29,
   "metadata": {},
   "outputs": [
    {
     "name": "stdout",
     "output_type": "stream",
     "text": [
      "(749525, 10274)\n"
     ]
    }
   ],
   "source": [
    "test_data_features = np.column_stack((test_data_features, ohe_test))\n",
    "print(test_data_features.shape)"
   ]
  },
  {
   "cell_type": "code",
   "execution_count": 30,
   "metadata": {},
   "outputs": [
    {
     "name": "stdout",
     "output_type": "stream",
     "text": [
      "749525/749525 [==============================] - 159s 212us/step\n"
     ]
    }
   ],
   "source": [
    "y_pred_wide_lr005_1000000 = model.predict(test_data_features, verbose=1)"
   ]
  },
  {
   "cell_type": "code",
   "execution_count": 31,
   "metadata": {},
   "outputs": [],
   "source": [
    "list_pickle_path = 'y_pred_wide_lr005.pkl'\n",
    "list_pickle = open(list_pickle_path, 'wb')\n",
    "pickle.dump(y_pred_wide_lr005_1000000, list_pickle)\n",
    "list_pickle.close()"
   ]
  },
  {
   "cell_type": "code",
   "execution_count": 32,
   "metadata": {},
   "outputs": [
    {
     "data": {
      "text/html": [
       "<div>\n",
       "<style scoped>\n",
       "    .dataframe tbody tr th:only-of-type {\n",
       "        vertical-align: middle;\n",
       "    }\n",
       "\n",
       "    .dataframe tbody tr th {\n",
       "        vertical-align: top;\n",
       "    }\n",
       "\n",
       "    .dataframe thead th {\n",
       "        text-align: right;\n",
       "    }\n",
       "</style>\n",
       "<table border=\"1\" class=\"dataframe\">\n",
       "  <thead>\n",
       "    <tr style=\"text-align: right;\">\n",
       "      <th></th>\n",
       "      <th>id</th>\n",
       "      <th>price</th>\n",
       "    </tr>\n",
       "  </thead>\n",
       "  <tbody>\n",
       "    <tr>\n",
       "      <th>0</th>\n",
       "      <td>285ea2e9935ccdeb8378c6a5</td>\n",
       "      <td>1.090320e+05</td>\n",
       "    </tr>\n",
       "    <tr>\n",
       "      <th>1</th>\n",
       "      <td>adfb73820bbb831257df6e95</td>\n",
       "      <td>3.808328e+04</td>\n",
       "    </tr>\n",
       "    <tr>\n",
       "      <th>2</th>\n",
       "      <td>783025601c36202f633fc6a5</td>\n",
       "      <td>5.150555e+06</td>\n",
       "    </tr>\n",
       "    <tr>\n",
       "      <th>3</th>\n",
       "      <td>2f0cd2d2e15dc90afd847f95</td>\n",
       "      <td>6.328730e+04</td>\n",
       "    </tr>\n",
       "    <tr>\n",
       "      <th>4</th>\n",
       "      <td>5c23a37902855a20172845a5</td>\n",
       "      <td>9.628400e+04</td>\n",
       "    </tr>\n",
       "  </tbody>\n",
       "</table>\n",
       "</div>"
      ],
      "text/plain": [
       "                         id         price\n",
       "0  285ea2e9935ccdeb8378c6a5  1.090320e+05\n",
       "1  adfb73820bbb831257df6e95  3.808328e+04\n",
       "2  783025601c36202f633fc6a5  5.150555e+06\n",
       "3  2f0cd2d2e15dc90afd847f95  6.328730e+04\n",
       "4  5c23a37902855a20172845a5  9.628400e+04"
      ]
     },
     "execution_count": 32,
     "metadata": {},
     "output_type": "execute_result"
    }
   ],
   "source": [
    "import pandas as pd\n",
    "subsam = pd.read_csv('./hack/submit_Sample.csv', sep=',')\n",
    "subsam['price'] = [0 if x[0]<0 else x[0] for x in y_pred_wide_lr005_1000000]\n",
    "subsam.head()"
   ]
  },
  {
   "cell_type": "code",
   "execution_count": 33,
   "metadata": {},
   "outputs": [],
   "source": [
    "subsam.to_csv( \"y_pred_wide_lr005_1000000.csv\", sep=',', encoding='utf-8',index=False )"
   ]
  },
  {
   "cell_type": "code",
   "execution_count": null,
   "metadata": {},
   "outputs": [],
   "source": []
  },
  {
   "cell_type": "code",
   "execution_count": null,
   "metadata": {},
   "outputs": [],
   "source": []
  },
  {
   "cell_type": "code",
   "execution_count": null,
   "metadata": {},
   "outputs": [],
   "source": []
  }
 ],
 "metadata": {
  "kernelspec": {
   "display_name": "Python 3",
   "language": "python",
   "name": "python3"
  },
  "language_info": {
   "codemirror_mode": {
    "name": "ipython",
    "version": 3
   },
   "file_extension": ".py",
   "mimetype": "text/x-python",
   "name": "python",
   "nbconvert_exporter": "python",
   "pygments_lexer": "ipython3",
   "version": "3.6.5"
  }
 },
 "nbformat": 4,
 "nbformat_minor": 2
}
