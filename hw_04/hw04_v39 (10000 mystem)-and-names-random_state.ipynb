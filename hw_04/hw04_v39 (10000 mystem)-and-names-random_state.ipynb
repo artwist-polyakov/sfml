{
 "cells": [
  {
   "cell_type": "markdown",
   "metadata": {},
   "source": [
    "### Состав команды:\n",
    "\n",
    "- Поляков Александр (Aleksandr Polyakov)\n",
    "- Востриков Алексей (Alexey Vostrikoff)\n",
    "- Садыков Динар (Dinar_Sadykow)\n",
    "- Федотов Андрей (Andrei Fedotov)\n",
    "- Каштанкина Ксения\n",
    "- Овчинников Алексей (Aleksey)\n",
    "- Пьянков Алексей\n",
    "- Лукошко Роберт (Robert)\n",
    "- Поперечный Богдан (Bogdan2105)"
   ]
  },
  {
   "cell_type": "markdown",
   "metadata": {},
   "source": [
    "### Описание данных\n",
    "\n",
    "* train.csv - данные для обучения\n",
    "* test.csv - данные для подготовки самбита и проверки\n",
    "* sampleSubmission.csv - пример корректного но бесполезного сабмита\n",
    "* other.csv - необязательные данные для доп.статистик и прочих извращений (например обучение word2vec-а)\n",
    "\n",
    "### Описание полей\n",
    "\n",
    "* id - внутренний идетификатор\n",
    "* name - название вакансии\n",
    "* description - текст вакансии\n",
    "* target - класс заинтересованности"
   ]
  },
  {
   "cell_type": "code",
   "execution_count": 4,
   "metadata": {},
   "outputs": [
    {
     "name": "stdout",
     "output_type": "stream",
     "text": [
      "CPU times: user 237 ms, sys: 82.8 ms, total: 320 ms\n",
      "Wall time: 447 ms\n"
     ]
    }
   ],
   "source": [
    "%%time\n",
    "\n",
    "import pandas as pd\n",
    "import numpy as np\n",
    "from sklearn.model_selection import train_test_split\n",
    "\n",
    "from sklearn.metrics import precision_score, recall_score, \\\n",
    "                        accuracy_score, classification_report, roc_auc_score, roc_curve"
   ]
  },
  {
   "cell_type": "markdown",
   "metadata": {},
   "source": [
    "## Шаг 1. Импортируем все в Pandas\n"
   ]
  },
  {
   "cell_type": "code",
   "execution_count": 5,
   "metadata": {},
   "outputs": [
    {
     "name": "stdout",
     "output_type": "stream",
     "text": [
      "CPU times: user 16.9 s, sys: 1.7 s, total: 18.6 s\n",
      "Wall time: 18.6 s\n"
     ]
    }
   ],
   "source": [
    "%%time\n",
    "sample_submission = pd.read_csv('sampleSubmission.csv',',')\n",
    "train_df = pd.read_csv('train.csv','\\t')\n",
    "test_df = pd.read_csv('test.csv','\\t')\n",
    "other_df = pd.read_csv('other.csv','\\t')"
   ]
  },
  {
   "cell_type": "code",
   "execution_count": 6,
   "metadata": {},
   "outputs": [
    {
     "data": {
      "text/html": [
       "<div>\n",
       "<style scoped>\n",
       "    .dataframe tbody tr th:only-of-type {\n",
       "        vertical-align: middle;\n",
       "    }\n",
       "\n",
       "    .dataframe tbody tr th {\n",
       "        vertical-align: top;\n",
       "    }\n",
       "\n",
       "    .dataframe thead th {\n",
       "        text-align: right;\n",
       "    }\n",
       "</style>\n",
       "<table border=\"1\" class=\"dataframe\">\n",
       "  <thead>\n",
       "    <tr style=\"text-align: right;\">\n",
       "      <th></th>\n",
       "      <th>id</th>\n",
       "      <th>name</th>\n",
       "      <th>description</th>\n",
       "      <th>target</th>\n",
       "      <th>concat</th>\n",
       "    </tr>\n",
       "  </thead>\n",
       "  <tbody>\n",
       "    <tr>\n",
       "      <th>0</th>\n",
       "      <td>0</td>\n",
       "      <td>Заведующий отделом/секцией в магазин YORK (Уру...</td>\n",
       "      <td>&lt;p&gt;&lt;strong&gt;В НОВЫЙ МАГАЗИН YORK (хозтовары) пр...</td>\n",
       "      <td>1</td>\n",
       "      <td>Заведующий отделом/секцией в магазин YORK (Уру...</td>\n",
       "    </tr>\n",
       "    <tr>\n",
       "      <th>1</th>\n",
       "      <td>1</td>\n",
       "      <td>Наладчик станков и манипуляторов с ПУ</td>\n",
       "      <td>Обязанности:работа на токарных станках с ЧПУ T...</td>\n",
       "      <td>0</td>\n",
       "      <td>Наладчик станков и манипуляторов с ПУ Обязанно...</td>\n",
       "    </tr>\n",
       "    <tr>\n",
       "      <th>2</th>\n",
       "      <td>2</td>\n",
       "      <td>Разработчик С++ (Криптограф)</td>\n",
       "      <td>&lt;strong&gt;Требования:&lt;/strong&gt; &lt;ul&gt; &lt;li&gt;Опыт про...</td>\n",
       "      <td>0</td>\n",
       "      <td>Разработчик С++ (Криптограф) &lt;strong&gt;Требовани...</td>\n",
       "    </tr>\n",
       "    <tr>\n",
       "      <th>3</th>\n",
       "      <td>3</td>\n",
       "      <td>Фрезеровщик</td>\n",
       "      <td>&lt;p&gt;Условия:&lt;/p&gt; &lt;ul&gt; &lt;li&gt;На работу вахтовым ме...</td>\n",
       "      <td>0</td>\n",
       "      <td>Фрезеровщик &lt;p&gt;Условия:&lt;/p&gt; &lt;ul&gt; &lt;li&gt;На работу...</td>\n",
       "    </tr>\n",
       "    <tr>\n",
       "      <th>4</th>\n",
       "      <td>4</td>\n",
       "      <td>Мерчендайзер/продавец-консультант</td>\n",
       "      <td>&lt;p&gt;&lt;strong&gt;Компания Палладиум Стандарт - призн...</td>\n",
       "      <td>1</td>\n",
       "      <td>Мерчендайзер/продавец-консультант &lt;p&gt;&lt;strong&gt;К...</td>\n",
       "    </tr>\n",
       "  </tbody>\n",
       "</table>\n",
       "</div>"
      ],
      "text/plain": [
       "   id                                               name  \\\n",
       "0   0  Заведующий отделом/секцией в магазин YORK (Уру...   \n",
       "1   1              Наладчик станков и манипуляторов с ПУ   \n",
       "2   2                       Разработчик С++ (Криптограф)   \n",
       "3   3                                        Фрезеровщик   \n",
       "4   4                  Мерчендайзер/продавец-консультант   \n",
       "\n",
       "                                         description  target  \\\n",
       "0  <p><strong>В НОВЫЙ МАГАЗИН YORK (хозтовары) пр...       1   \n",
       "1  Обязанности:работа на токарных станках с ЧПУ T...       0   \n",
       "2  <strong>Требования:</strong> <ul> <li>Опыт про...       0   \n",
       "3  <p>Условия:</p> <ul> <li>На работу вахтовым ме...       0   \n",
       "4  <p><strong>Компания Палладиум Стандарт - призн...       1   \n",
       "\n",
       "                                              concat  \n",
       "0  Заведующий отделом/секцией в магазин YORK (Уру...  \n",
       "1  Наладчик станков и манипуляторов с ПУ Обязанно...  \n",
       "2  Разработчик С++ (Криптограф) <strong>Требовани...  \n",
       "3  Фрезеровщик <p>Условия:</p> <ul> <li>На работу...  \n",
       "4  Мерчендайзер/продавец-консультант <p><strong>К...  "
      ]
     },
     "execution_count": 6,
     "metadata": {},
     "output_type": "execute_result"
    }
   ],
   "source": [
    "train_df['concat'] = train_df['name']+' '+ train_df['description']\n",
    "train_df.head()"
   ]
  },
  {
   "cell_type": "markdown",
   "metadata": {},
   "source": [
    "## Шаг 2. Чистим данные и подготавливаем текст"
   ]
  },
  {
   "cell_type": "code",
   "execution_count": 7,
   "metadata": {
    "scrolled": true
   },
   "outputs": [],
   "source": [
    "# Подключаем БьютифулСуп\n",
    "from bs4 import BeautifulSoup             \n",
    "\n",
    "# Прогоняем отдельное описание через БьютифулСуп   \n",
    "example1 = BeautifulSoup(train_df['concat'][0], 'html5lib')  "
   ]
  },
  {
   "cell_type": "code",
   "execution_count": 8,
   "metadata": {},
   "outputs": [
    {
     "name": "stdout",
     "output_type": "stream",
     "text": [
      "Заведующий отделом секцией в магазин YORK  Уручье  В НОВЫЙ МАГАЗИН YORK  хозтовары  приглашаем на постоянную работу руководителя секции  хозтовары   Обязанности      организация эффективного и культурного обслуживания покупателей организация приемки сдачи товаров на склад консультация покупателей по вопросам  касающимся оказываемых услуг контроль своевременной подачи товаров в торговую секцию проверка качества  сроков годности ТМЦ  наличие маркировок  ценников на товарах организация бесперебойной работы товарной секции и участка склада  закрепленного за ней контроль за сохранностью товаров  торгового оборудования и прочих материальных ценностей инвентаризация товаров    Требования   знание товарной группы знание правил приемки товара опыт работы в розничной торговле в качестве продавца   р    заместителя заведующего секцией отделом ответственность  лидерские качества  опыт управления коллективом      Условия   НОВЫЙ современный магазин розничной торговли хозтоварами хороший коллектив достойная зарплата  премии  соц пакет график работы пн пт с      до        плавающий     Место работы  ул  Никифорова  УРУЧЬЕ \n"
     ]
    }
   ],
   "source": [
    "#Подключаем регулярки, чтобы очистить текст от тегов html\n",
    "import re\n",
    "# Делаем найти и заменить на ничто для всего что не похоже на регулярку\n",
    "letters_only = re.sub(\"[^а-яёЁ А-Яa-zA-Z]\",           # находим всё что не\n",
    "                      \" \",                   # Меняем на пустоту\n",
    "                      example1.get_text() )  \n",
    "print (letters_only)"
   ]
  },
  {
   "cell_type": "code",
   "execution_count": 9,
   "metadata": {},
   "outputs": [],
   "source": [
    "lower_case = letters_only.lower()\n",
    "words1 = lower_case.split()  "
   ]
  },
  {
   "cell_type": "code",
   "execution_count": 10,
   "metadata": {},
   "outputs": [],
   "source": [
    "import nltk\n",
    "import pymystem3\n",
    "mystem = pymystem3.Mystem()\n",
    "#nltk.download()  # Если NLTK не установлен, то надо раскомментровать этот блок и исполнить"
   ]
  },
  {
   "cell_type": "code",
   "execution_count": 11,
   "metadata": {},
   "outputs": [
    {
     "name": "stdout",
     "output_type": "stream",
     "text": [
      "['и', 'в', 'во', 'не', 'что', 'он', 'на', 'я', 'с', 'со', 'как', 'а', 'то', 'все', 'она', 'так', 'его', 'но', 'да', 'ты', 'к', 'у', 'же', 'вы', 'за', 'бы', 'по', 'только', 'ее', 'мне', 'было', 'вот', 'от', 'меня', 'еще', 'нет', 'о', 'из', 'ему', 'теперь', 'когда', 'даже', 'ну', 'вдруг', 'ли', 'если', 'уже', 'или', 'ни', 'быть', 'был', 'него', 'до', 'вас', 'нибудь', 'опять', 'уж', 'вам', 'ведь', 'там', 'потом', 'себя', 'ничего', 'ей', 'может', 'они', 'тут', 'где', 'есть', 'надо', 'ней', 'для', 'мы', 'тебя', 'их', 'чем', 'была', 'сам', 'чтоб', 'без', 'будто', 'чего', 'раз', 'тоже', 'себе', 'под', 'будет', 'ж', 'тогда', 'кто', 'этот', 'того', 'потому', 'этого', 'какой', 'совсем', 'ним', 'здесь', 'этом', 'один', 'почти', 'мой', 'тем', 'чтобы', 'нее', 'сейчас', 'были', 'куда', 'зачем', 'всех', 'никогда', 'можно', 'при', 'наконец', 'два', 'об', 'другой', 'хоть', 'после', 'над', 'больше', 'тот', 'через', 'эти', 'нас', 'про', 'всего', 'них', 'какая', 'много', 'разве', 'три', 'эту', 'моя', 'впрочем', 'хорошо', 'свою', 'этой', 'перед', 'иногда', 'лучше', 'чуть', 'том', 'нельзя', 'такой', 'им', 'более', 'всегда', 'конечно', 'всю', 'между']\n"
     ]
    }
   ],
   "source": [
    "from nltk.corpus import stopwords # Импортируем стоп-слова русскго языка\n",
    "print( stopwords.words('russian') )"
   ]
  },
  {
   "cell_type": "code",
   "execution_count": 12,
   "metadata": {},
   "outputs": [
    {
     "name": "stdout",
     "output_type": "stream",
     "text": [
      "Заняло 0.024632999999997907 сек\n",
      "['заведующий', 'отделом', 'секцией', 'магазин', 'york', 'уручье', 'новый', 'магазин', 'york', 'хозтовары', 'приглашаем', 'постоянную', 'работу', 'руководителя', 'секции', 'хозтовары', 'обязанности', 'организация', 'эффективного', 'культурного', 'обслуживания', 'покупателей', 'организация', 'приемки', 'сдачи', 'товаров', 'склад', 'консультация', 'покупателей', 'вопросам', 'касающимся', 'оказываемых', 'услуг', 'контроль', 'своевременной', 'подачи', 'товаров', 'торговую', 'секцию', 'проверка', 'качества', 'сроков', 'годности', 'тмц', 'наличие', 'маркировок', 'ценников', 'товарах', 'организация', 'бесперебойной', 'работы', 'товарной', 'секции', 'участка', 'склада', 'закрепленного', 'контроль', 'сохранностью', 'товаров', 'торгового', 'оборудования', 'прочих', 'материальных', 'ценностей', 'инвентаризация', 'товаров', 'требования', 'знание', 'товарной', 'группы', 'знание', 'правил', 'приемки', 'товара', 'опыт', 'работы', 'розничной', 'торговле', 'качестве', 'продавца', 'р', 'заместителя', 'заведующего', 'секцией', 'отделом', 'ответственность', 'лидерские', 'качества', 'опыт', 'управления', 'коллективом', 'условия', 'новый', 'современный', 'магазин', 'розничной', 'торговли', 'хозтоварами', 'хороший', 'коллектив', 'достойная', 'зарплата', 'премии', 'соц', 'пакет', 'график', 'работы', 'пн', 'пт', 'плавающий', 'место', 'работы', 'ул', 'никифорова', 'уручье']\n",
      "Заняло 0.052049000000000234 сек\n",
      "[['заведующий', '\\n'], ['отдел', '\\n'], ['секция', '\\n'], ['магазин', '\\n'], ['york', '\\n'], ['уручье', '\\n'], ['новый', '\\n'], ['магазин', '\\n'], ['york', '\\n'], ['хозтовары', '\\n'], ['приглашать', '\\n'], ['постоянный', '\\n'], ['работа', '\\n'], ['руководитель', '\\n'], ['секция', '\\n'], ['хозтовары', '\\n'], ['обязанность', '\\n'], ['организация', '\\n'], ['эффективный', '\\n'], ['культурный', '\\n'], ['обслуживание', '\\n'], ['покупатель', '\\n'], ['организация', '\\n'], ['приемка', '\\n'], ['сдача', '\\n'], ['товар', '\\n'], ['склад', '\\n'], ['консультация', '\\n'], ['покупатель', '\\n'], ['вопрос', '\\n'], ['касаться', '\\n'], ['оказывать', '\\n'], ['услуга', '\\n'], ['контроль', '\\n'], ['своевременный', '\\n'], ['подача', '\\n'], ['товар', '\\n'], ['торговый', '\\n'], ['секция', '\\n'], ['проверка', '\\n'], ['качество', '\\n'], ['срок', '\\n'], ['годность', '\\n'], ['тмц', '\\n'], ['наличие', '\\n'], ['маркировка', '\\n'], ['ценник', '\\n'], ['товар', '\\n'], ['организация', '\\n'], ['бесперебойный', '\\n'], ['работа', '\\n'], ['товарный', '\\n'], ['секция', '\\n'], ['участок', '\\n'], ['склад', '\\n'], ['закреплять', '\\n'], ['контроль', '\\n'], ['сохранность', '\\n'], ['товар', '\\n'], ['торговый', '\\n'], ['оборудование', '\\n'], ['прочий', '\\n'], ['материальный', '\\n'], ['ценность', '\\n'], ['инвентаризация', '\\n'], ['товар', '\\n'], ['требование', '\\n'], ['знание', '\\n'], ['товарный', '\\n'], ['группа', '\\n'], ['знание', '\\n'], ['правило', '\\n'], ['приемка', '\\n'], ['товар', '\\n'], ['опыт', '\\n'], ['работа', '\\n'], ['розничный', '\\n'], ['торговля', '\\n'], ['качество', '\\n'], ['продавец', '\\n'], ['р', '\\n'], ['заместитель', '\\n'], ['заведующий', '\\n'], ['секция', '\\n'], ['отдел', '\\n'], ['ответственность', '\\n'], ['лидерский', '\\n'], ['качество', '\\n'], ['опыт', '\\n'], ['управление', '\\n'], ['коллектив', '\\n'], ['условие', '\\n'], ['новый', '\\n'], ['современный', '\\n'], ['магазин', '\\n'], ['розничный', '\\n'], ['торговля', '\\n'], ['хозтовары', '\\n'], ['хороший', '\\n'], ['коллектив', '\\n'], ['достойный', '\\n'], ['зарплата', '\\n'], ['премия', '\\n'], ['соц', '\\n'], ['пакет', '\\n'], ['график', '\\n'], ['работа', '\\n'], ['пн', '\\n'], ['пт', '\\n'], ['плавать', '\\n'], ['место', '\\n'], ['работа', '\\n'], ['ул', '\\n'], ['никифоров', '\\n'], ['уручье', '\\n']]\n",
      "CPU times: user 40.3 ms, sys: 36.7 ms, total: 77 ms\n",
      "Wall time: 922 ms\n"
     ]
    }
   ],
   "source": [
    "%%time\n",
    "import time\n",
    "# Удаляем стоп-слова русского языка из текста words\n",
    "a = time.clock()\n",
    "words = [w for w in words1 if not w in stopwords.words('russian')]\n",
    "b = time.clock()\n",
    "print('Заняло {} сек'.format(b-a))\n",
    "print (words)\n",
    "# Посмоторим что получится, если прогнать мистемом. \n",
    "a = time.clock()\n",
    "words = [mystem.lemmatize(w) for w in words1 if not w in stopwords.words('russian')]\n",
    "b = time.clock()\n",
    "print('Заняло {} сек'.format(b-a))\n",
    "print (words)"
   ]
  },
  {
   "cell_type": "code",
   "execution_count": 13,
   "metadata": {},
   "outputs": [
    {
     "data": {
      "text/plain": [
       "'заведующий отдел секция магазин york уручье новый магазин york хозтовары приглашать постоянный работа руководитель секция хозтовары обязанность организация эффективный культурный обслуживание покупатель организация приемка сдача товар склад консультация покупатель вопрос касаться оказывать услуга контроль своевременный подача товар торговый секция проверка качество срок годность тмц наличие маркировка ценник товар организация бесперебойный работа товарный секция участок склад закреплять контроль сохранность товар торговый оборудование прочий материальный ценность инвентаризация товар требование знание товарный группа знание правило приемка товар опыт работа розничный торговля качество продавец р заместитель заведующий секция отдел ответственность лидерский качество опыт управление коллектив условие новый современный магазин розничный торговля хозтовары хороший коллектив достойный зарплата премия соц пакет график работа пн пт плавать место работа ул никифоров уручье '"
      ]
     },
     "execution_count": 13,
     "metadata": {},
     "output_type": "execute_result"
    }
   ],
   "source": [
    "temp = ''\n",
    "for i in words:\n",
    "    temp += (i[0]+' ')\n",
    "temp"
   ]
  },
  {
   "cell_type": "code",
   "execution_count": 14,
   "metadata": {},
   "outputs": [],
   "source": [
    "def vac_to_words( description, Mystem = True ):\n",
    "    \"\"\"\n",
    "    Функция делает преобразование поля description из формата html в формат с отдельными значащими словами\n",
    "    На вход передается  описание и параметр True/False. Если True, то работает стеммер, иначе нет\n",
    "    \"\"\"\n",
    "    description_text = BeautifulSoup(description, 'html5lib').get_text() #получаем текст      \n",
    "    letters_only = re.sub('[^а-яёЁ А-Яa-zA-Z]', ' ', description_text) #удаляем всё что не буквы\n",
    "    words = letters_only.lower().split() #получаем слова в нижнем регистре                             \n",
    "    stops = set(stopwords.words('russian'))  # формируем set стоп слов русского языка                  \n",
    "    if Mystem: #удаляем минус фразы и  оставляем либо \"стеммы\", либо значащие слова\n",
    "        meaningful_words = [mystem.lemmatize(w) for w in words if not w in stops]\n",
    "        temp = ''\n",
    "        for i in meaningful_words:\n",
    "            temp += (i[0]+' ')\n",
    "        return temp\n",
    "    else: \n",
    "        meaningful_words = [w for w in words if not w in stops]\n",
    "        return( ' '.join( meaningful_words ))  # собираем слова в строку с разделителеим пробел "
   ]
  },
  {
   "cell_type": "code",
   "execution_count": 15,
   "metadata": {},
   "outputs": [
    {
     "name": "stdout",
     "output_type": "stream",
     "text": [
      "заведующий отдел секция магазин york уручье новый магазин york хозтовары приглашать постоянный работа руководитель секция хозтовары обязанность организация эффективный культурный обслуживание покупатель организация приемка сдача товар склад консультация покупатель вопрос касаться оказывать услуга контроль своевременный подача товар торговый секция проверка качество срок годность тмц наличие маркировка ценник товар организация бесперебойный работа товарный секция участок склад закреплять контроль сохранность товар торговый оборудование прочий материальный ценность инвентаризация товар требование знание товарный группа знание правило приемка товар опыт работа розничный торговля качество продавец р заместитель заведующий секция отдел ответственность лидерский качество опыт управление коллектив условие новый современный магазин розничный торговля хозтовары хороший коллектив достойный зарплата премия соц пакет график работа пн пт плавать место работа ул никифоров уручье \n"
     ]
    }
   ],
   "source": [
    "clean_vac = vac_to_words( train_df['concat'][0])\n",
    "print(clean_vac)"
   ]
  },
  {
   "cell_type": "code",
   "execution_count": 16,
   "metadata": {},
   "outputs": [
    {
     "data": {
      "text/plain": [
       "200000"
      ]
     },
     "execution_count": 16,
     "metadata": {},
     "output_type": "execute_result"
    }
   ],
   "source": [
    "# Посмотрим сколько всего описаний есть в train_df\n",
    "num_vacs = train_df['concat'].size\n",
    "num_vacs"
   ]
  },
  {
   "cell_type": "code",
   "execution_count": 17,
   "metadata": {
    "scrolled": true
   },
   "outputs": [
    {
     "name": "stdout",
     "output_type": "stream",
     "text": [
      "Очищаем и собираем нормализованные описания из train_df...\n",
      "\n",
      "Описание 10000 из 200000 в обработке... 5%\n",
      "Описание 20000 из 200000 в обработке... 10%\n",
      "Описание 30000 из 200000 в обработке... 15%\n",
      "Описание 40000 из 200000 в обработке... 20%\n",
      "Описание 50000 из 200000 в обработке... 25%\n",
      "Описание 60000 из 200000 в обработке... 30%\n",
      "Описание 70000 из 200000 в обработке... 35%\n",
      "Описание 80000 из 200000 в обработке... 40%\n",
      "Описание 90000 из 200000 в обработке... 45%\n",
      "Описание 100000 из 200000 в обработке... 50%\n",
      "Описание 110000 из 200000 в обработке... 55%\n",
      "Описание 120000 из 200000 в обработке... 60%\n",
      "Описание 130000 из 200000 в обработке... 65%\n",
      "Описание 140000 из 200000 в обработке... 70%\n",
      "Описание 150000 из 200000 в обработке... 75%\n",
      "Описание 160000 из 200000 в обработке... 80%\n",
      "Описание 170000 из 200000 в обработке... 85%\n",
      "Описание 180000 из 200000 в обработке... 90%\n",
      "Описание 190000 из 200000 в обработке... 95%\n",
      "Описание 200000 из 200000 в обработке... 100%\n",
      "Я закончила!!!\n",
      "CPU times: user 19min 14s, sys: 3min 42s, total: 22min 57s\n",
      "Wall time: 38min 13s\n"
     ]
    }
   ],
   "source": [
    "%%time\n",
    "clean_train_vacs = [] #делаем пустой лист для записи всех описаний с отдельными словами\n",
    "\n",
    "print ('Очищаем и собираем нормализованные описания из train_df...\\n')\n",
    "\n",
    "# Пройдем в цикле по всем описаниям\n",
    "for i in range( 0, num_vacs ):\n",
    "    \n",
    "    # Для каждого описания вызываем функцию нормировки текста описания и добавляем нормированный текст в лист\n",
    "    \n",
    "    if( (i+1)%10000 == 0 ): #чтобы не было скучно, каждые 10 000 описаний будем печатать развлекательный текст\n",
    "        print ('Описание {} из {} в обработке... {:.0%}'.format( i+1, num_vacs,(i+1)/num_vacs )) \n",
    "        \n",
    "    clean_train_vacs.append( vac_to_words( train_df['concat'][i]) )\n",
    "print('Я закончила!!!')"
   ]
  },
  {
   "cell_type": "markdown",
   "metadata": {},
   "source": [
    "## Создаём свойства через Bag of Words"
   ]
  },
  {
   "cell_type": "code",
   "execution_count": 18,
   "metadata": {},
   "outputs": [
    {
     "name": "stdout",
     "output_type": "stream",
     "text": [
      "Фигачим Bag of words...\n",
      "\n",
      "CPU times: user 17.9 s, sys: 5.53 s, total: 23.4 s\n",
      "Wall time: 24.3 s\n"
     ]
    }
   ],
   "source": [
    "%%time\n",
    "print ('Фигачим Bag of words...\\n')\n",
    "from sklearn.feature_extraction.text import CountVectorizer \n",
    "vectorizer = CountVectorizer(analyzer = \"word\",   \n",
    "                             tokenizer = None,    \n",
    "                             preprocessor = None, \n",
    "                             stop_words = None,   \n",
    "                             max_features = 10000) \n",
    "\n",
    "\n",
    "# 5 000 фич считались 20.1 сек\n",
    "# прогоняем полученный в прошлом пункте лист с текстами через fit_transform() \n",
    "train_data_features = vectorizer.fit_transform(clean_train_vacs)\n",
    "\n",
    "# Переделаем полученные свойства в array \n",
    "train_data_features = train_data_features.toarray()"
   ]
  },
  {
   "cell_type": "code",
   "execution_count": 19,
   "metadata": {},
   "outputs": [
    {
     "data": {
      "text/plain": [
       "(200000, 10000)"
      ]
     },
     "execution_count": 19,
     "metadata": {},
     "output_type": "execute_result"
    }
   ],
   "source": [
    "train_data_features.shape"
   ]
  },
  {
   "cell_type": "markdown",
   "metadata": {},
   "source": [
    "## Шаг 3. Решам задачу через модель Random Forest"
   ]
  },
  {
   "cell_type": "code",
   "execution_count": 20,
   "metadata": {},
   "outputs": [
    {
     "name": "stderr",
     "output_type": "stream",
     "text": [
      "/Users/aleksandrpolakov/anaconda3/lib/python3.6/site-packages/sklearn/cross_validation.py:41: DeprecationWarning: This module was deprecated in version 0.18 in favor of the model_selection module into which all the refactored classes and functions are moved. Also note that the interface of the new CV iterators are different from that of this module. This module will be removed in 0.20.\n",
      "  \"This module will be removed in 0.20.\", DeprecationWarning)\n"
     ]
    },
    {
     "name": "stdout",
     "output_type": "stream",
     "text": [
      "X_train  (160000, 10000)\n",
      "X_test  (40000, 10000)\n",
      "y_train  (160000,)\n",
      "y_test  (40000,)\n",
      "CPU times: user 7.39 s, sys: 13.5 s, total: 20.9 s\n",
      "Wall time: 24.1 s\n"
     ]
    }
   ],
   "source": [
    "%%time\n",
    "#Делаем трейн тест сплит\n",
    "\n",
    "from sklearn.cross_validation import train_test_split\n",
    "from sklearn.metrics import precision_score, recall_score, accuracy_score, classification_report\n",
    "from sklearn.metrics import roc_auc_score, roc_curve\n",
    "\n",
    "X_train, X_test, y_train, y_test = train_test_split(train_data_features, train_df['target'], test_size=0.2, random_state=42)\n",
    "print('X_train ', X_train.shape)\n",
    "print('X_test ',X_test.shape)\n",
    "print('y_train ', y_train.shape)\n",
    "print('y_test ',y_test.shape)\n"
   ]
  },
  {
   "cell_type": "code",
   "execution_count": 21,
   "metadata": {
    "scrolled": true
   },
   "outputs": [
    {
     "name": "stdout",
     "output_type": "stream",
     "text": [
      "Обучаем Random Forest...\n",
      "\n",
      "Саш, я обучилась!\n",
      "CPU times: user 1h 12min 4s, sys: 1min 6s, total: 1h 13min 10s\n",
      "Wall time: 8min 45s\n"
     ]
    }
   ],
   "source": [
    "%%time\n",
    "\n",
    "print ('Обучаем Random Forest...\\n')\n",
    "from sklearn.ensemble import RandomForestClassifier\n",
    "\n",
    "# Пока делаем 100 деревьев, но в следующих вариантах домашки попробую сделать 50\n",
    "forest = RandomForestClassifier(n_estimators = 100, n_jobs = -1, random_state = 123) \n",
    "\n",
    "forest = forest.fit( X_train, y_train )\n",
    "print ('Саш, я обучилась!')"
   ]
  },
  {
   "cell_type": "code",
   "execution_count": 22,
   "metadata": {},
   "outputs": [],
   "source": [
    "predict = forest.predict(X_test)"
   ]
  },
  {
   "cell_type": "code",
   "execution_count": 23,
   "metadata": {},
   "outputs": [
    {
     "name": "stdout",
     "output_type": "stream",
     "text": [
      "#################### >>> Random Trees <<< #################### \n",
      "              precision    recall  f1-score   support\n",
      "\n",
      "          0       0.97      0.96      0.97     21268\n",
      "          1       0.96      0.97      0.96     18732\n",
      "\n",
      "avg / total       0.97      0.97      0.97     40000\n",
      " \n",
      "\n",
      "ROCAUC = 0.9928749454155948\n",
      "CPU times: user 15.6 s, sys: 816 ms, total: 16.4 s\n",
      "Wall time: 2.94 s\n"
     ]
    }
   ],
   "source": [
    "%%time\n",
    "\n",
    "# прошлый результаты были 0.97 0.97 0.97\n",
    "y_hat = forest.predict_proba(X_test)\n",
    "print('#'*20,'>>> Random Trees <<<','#'*20,'\\n',classification_report(y_test, predict),'\\n')\n",
    "print('ROCAUC = {}'.format( roc_auc_score(y_test, y_hat[:,1])))"
   ]
  },
  {
   "cell_type": "code",
   "execution_count": null,
   "metadata": {},
   "outputs": [],
   "source": []
  },
  {
   "cell_type": "code",
   "execution_count": 24,
   "metadata": {},
   "outputs": [],
   "source": [
    "\n",
    "from sklearn.linear_model import LogisticRegression\n",
    "\n"
   ]
  },
  {
   "cell_type": "code",
   "execution_count": 25,
   "metadata": {},
   "outputs": [
    {
     "name": "stderr",
     "output_type": "stream",
     "text": [
      "/Users/aleksandrpolakov/anaconda3/lib/python3.6/site-packages/sklearn/linear_model/logistic.py:1228: UserWarning: 'n_jobs' > 1 does not have any effect when 'solver' is set to 'liblinear'. Got 'n_jobs' = -1.\n",
      "  \" = {}.\".format(self.n_jobs))\n"
     ]
    },
    {
     "name": "stdout",
     "output_type": "stream",
     "text": [
      "#################### >>> Logistic Regression <<< #################### \n",
      "              precision    recall  f1-score   support\n",
      "\n",
      "          0       0.96      0.96      0.96     21268\n",
      "          1       0.95      0.96      0.96     18732\n",
      "\n",
      "avg / total       0.96      0.96      0.96     40000\n",
      " \n",
      "\n",
      "ROCAUC = 0.9881096008271006\n",
      "CPU times: user 4min 27s, sys: 28.1 s, total: 4min 55s\n",
      "Wall time: 1min 39s\n"
     ]
    }
   ],
   "source": [
    "%%time\n",
    "\n",
    "logreg = LogisticRegression(random_state = 123, n_jobs = -1)\n",
    "logreg = logreg.fit( X_train, y_train )\n",
    "predict = logreg.predict(X_test)\n",
    "y_hat = logreg.predict_proba(X_test)\n",
    "print('#'*20,'>>> Logistic Regression <<<','#'*20,'\\n',classification_report(y_test, predict),'\\n')\n",
    "print('ROCAUC = {}'.format( roc_auc_score(y_test, y_hat[:,1])))"
   ]
  },
  {
   "cell_type": "code",
   "execution_count": null,
   "metadata": {},
   "outputs": [],
   "source": []
  },
  {
   "cell_type": "markdown",
   "metadata": {},
   "source": [
    "## Пробуем стэккинг\n"
   ]
  },
  {
   "cell_type": "code",
   "execution_count": 26,
   "metadata": {},
   "outputs": [],
   "source": [
    "from vecstack import stacking"
   ]
  },
  {
   "cell_type": "code",
   "execution_count": 27,
   "metadata": {},
   "outputs": [],
   "source": [
    "from sklearn.neighbors import KNeighborsClassifier\n",
    "from sklearn.naive_bayes import GaussianNB\n",
    "from sklearn.neighbors import RadiusNeighborsClassifier\n",
    "\n",
    "from sklearn.pipeline import Pipeline\n",
    "from sklearn.preprocessing import OneHotEncoder\n",
    "from sklearn.model_selection import validation_curve\n",
    "from sklearn.model_selection import StratifiedKFold\n",
    "\n",
    "from sklearn.linear_model import LogisticRegression\n",
    "from sklearn.model_selection import cross_val_score\n",
    "from sklearn.preprocessing import StandardScaler"
   ]
  },
  {
   "cell_type": "code",
   "execution_count": 28,
   "metadata": {},
   "outputs": [
    {
     "name": "stdout",
     "output_type": "stream",
     "text": [
      "CPU times: user 137 µs, sys: 446 µs, total: 583 µs\n",
      "Wall time: 587 µs\n"
     ]
    }
   ],
   "source": [
    "%%time\n",
    "\n",
    "models = [\n",
    "    RandomForestClassifier(n_estimators=100, max_depth=5, random_state=123,  n_jobs = -1),\n",
    "    RandomForestClassifier(n_estimators=100, max_depth=10, random_state=123, max_features='log2',  n_jobs = -1),\n",
    "    LogisticRegression(class_weight = 'balanced', random_state = 123, n_jobs = -1),\n",
    "    LogisticRegression(random_state = 123, n_jobs = -1),\n",
    "    RandomForestClassifier(n_estimators=100, random_state=123,  n_jobs = -1)\n",
    "    \n",
    "]"
   ]
  },
  {
   "cell_type": "code",
   "execution_count": 29,
   "metadata": {},
   "outputs": [],
   "source": [
    "def roc_auc_score_cust(y_true, y_hat):\n",
    "    return roc_auc_score(y_true, y_hat[:,1])"
   ]
  },
  {
   "cell_type": "code",
   "execution_count": 30,
   "metadata": {},
   "outputs": [
    {
     "name": "stdout",
     "output_type": "stream",
     "text": [
      "task:         [classification]\n",
      "n_classes:    [2]\n",
      "metric:       [roc_auc_score_cust]\n",
      "mode:         [oof_pred_bag]\n",
      "n_models:     [5]\n",
      "\n",
      "model  0:     [RandomForestClassifier]\n",
      "    fold  0:  [0.97544600]\n",
      "    fold  1:  [0.97541940]\n",
      "    fold  2:  [0.97426876]\n",
      "    fold  3:  [0.97589266]\n",
      "    fold  4:  [0.97606548]\n",
      "    ----\n",
      "    MEAN:     [0.97541846] + [0.00062707]\n",
      "    FULL:     [0.97541951]\n",
      "\n",
      "model  1:     [RandomForestClassifier]\n",
      "    fold  0:  [0.96592820]\n",
      "    fold  1:  [0.96898151]\n",
      "    fold  2:  [0.96645308]\n",
      "    fold  3:  [0.96404066]\n",
      "    fold  4:  [0.96682817]\n",
      "    ----\n",
      "    MEAN:     [0.96644632] + [0.00158926]\n",
      "    FULL:     [0.96642698]\n",
      "\n",
      "model  2:     [LogisticRegression]\n"
     ]
    },
    {
     "name": "stderr",
     "output_type": "stream",
     "text": [
      "/Users/aleksandrpolakov/anaconda3/lib/python3.6/site-packages/sklearn/linear_model/logistic.py:1228: UserWarning: 'n_jobs' > 1 does not have any effect when 'solver' is set to 'liblinear'. Got 'n_jobs' = -1.\n",
      "  \" = {}.\".format(self.n_jobs))\n"
     ]
    },
    {
     "name": "stdout",
     "output_type": "stream",
     "text": [
      "    fold  0:  [0.98778995]\n"
     ]
    },
    {
     "name": "stderr",
     "output_type": "stream",
     "text": [
      "/Users/aleksandrpolakov/anaconda3/lib/python3.6/site-packages/sklearn/linear_model/logistic.py:1228: UserWarning: 'n_jobs' > 1 does not have any effect when 'solver' is set to 'liblinear'. Got 'n_jobs' = -1.\n",
      "  \" = {}.\".format(self.n_jobs))\n"
     ]
    },
    {
     "name": "stdout",
     "output_type": "stream",
     "text": [
      "    fold  1:  [0.98758644]\n"
     ]
    },
    {
     "name": "stderr",
     "output_type": "stream",
     "text": [
      "/Users/aleksandrpolakov/anaconda3/lib/python3.6/site-packages/sklearn/linear_model/logistic.py:1228: UserWarning: 'n_jobs' > 1 does not have any effect when 'solver' is set to 'liblinear'. Got 'n_jobs' = -1.\n",
      "  \" = {}.\".format(self.n_jobs))\n"
     ]
    },
    {
     "name": "stdout",
     "output_type": "stream",
     "text": [
      "    fold  2:  [0.98732040]\n"
     ]
    },
    {
     "name": "stderr",
     "output_type": "stream",
     "text": [
      "/Users/aleksandrpolakov/anaconda3/lib/python3.6/site-packages/sklearn/linear_model/logistic.py:1228: UserWarning: 'n_jobs' > 1 does not have any effect when 'solver' is set to 'liblinear'. Got 'n_jobs' = -1.\n",
      "  \" = {}.\".format(self.n_jobs))\n"
     ]
    },
    {
     "name": "stdout",
     "output_type": "stream",
     "text": [
      "    fold  3:  [0.98812613]\n"
     ]
    },
    {
     "name": "stderr",
     "output_type": "stream",
     "text": [
      "/Users/aleksandrpolakov/anaconda3/lib/python3.6/site-packages/sklearn/linear_model/logistic.py:1228: UserWarning: 'n_jobs' > 1 does not have any effect when 'solver' is set to 'liblinear'. Got 'n_jobs' = -1.\n",
      "  \" = {}.\".format(self.n_jobs))\n"
     ]
    },
    {
     "name": "stdout",
     "output_type": "stream",
     "text": [
      "    fold  4:  [0.98734350]\n",
      "    ----\n",
      "    MEAN:     [0.98763328] + [0.00030050]\n",
      "    FULL:     [0.98763151]\n",
      "\n",
      "model  3:     [LogisticRegression]\n"
     ]
    },
    {
     "name": "stderr",
     "output_type": "stream",
     "text": [
      "/Users/aleksandrpolakov/anaconda3/lib/python3.6/site-packages/sklearn/linear_model/logistic.py:1228: UserWarning: 'n_jobs' > 1 does not have any effect when 'solver' is set to 'liblinear'. Got 'n_jobs' = -1.\n",
      "  \" = {}.\".format(self.n_jobs))\n"
     ]
    },
    {
     "name": "stdout",
     "output_type": "stream",
     "text": [
      "    fold  0:  [0.98779997]\n"
     ]
    },
    {
     "name": "stderr",
     "output_type": "stream",
     "text": [
      "/Users/aleksandrpolakov/anaconda3/lib/python3.6/site-packages/sklearn/linear_model/logistic.py:1228: UserWarning: 'n_jobs' > 1 does not have any effect when 'solver' is set to 'liblinear'. Got 'n_jobs' = -1.\n",
      "  \" = {}.\".format(self.n_jobs))\n"
     ]
    },
    {
     "name": "stdout",
     "output_type": "stream",
     "text": [
      "    fold  1:  [0.98761319]\n"
     ]
    },
    {
     "name": "stderr",
     "output_type": "stream",
     "text": [
      "/Users/aleksandrpolakov/anaconda3/lib/python3.6/site-packages/sklearn/linear_model/logistic.py:1228: UserWarning: 'n_jobs' > 1 does not have any effect when 'solver' is set to 'liblinear'. Got 'n_jobs' = -1.\n",
      "  \" = {}.\".format(self.n_jobs))\n"
     ]
    },
    {
     "name": "stdout",
     "output_type": "stream",
     "text": [
      "    fold  2:  [0.98732591]\n"
     ]
    },
    {
     "name": "stderr",
     "output_type": "stream",
     "text": [
      "/Users/aleksandrpolakov/anaconda3/lib/python3.6/site-packages/sklearn/linear_model/logistic.py:1228: UserWarning: 'n_jobs' > 1 does not have any effect when 'solver' is set to 'liblinear'. Got 'n_jobs' = -1.\n",
      "  \" = {}.\".format(self.n_jobs))\n"
     ]
    },
    {
     "name": "stdout",
     "output_type": "stream",
     "text": [
      "    fold  3:  [0.98811598]\n"
     ]
    },
    {
     "name": "stderr",
     "output_type": "stream",
     "text": [
      "/Users/aleksandrpolakov/anaconda3/lib/python3.6/site-packages/sklearn/linear_model/logistic.py:1228: UserWarning: 'n_jobs' > 1 does not have any effect when 'solver' is set to 'liblinear'. Got 'n_jobs' = -1.\n",
      "  \" = {}.\".format(self.n_jobs))\n"
     ]
    },
    {
     "name": "stdout",
     "output_type": "stream",
     "text": [
      "    fold  4:  [0.98737497]\n",
      "    ----\n",
      "    MEAN:     [0.98764600] + [0.00029037]\n",
      "    FULL:     [0.98764410]\n",
      "\n",
      "model  4:     [RandomForestClassifier]\n",
      "    fold  0:  [0.99214268]\n",
      "    fold  1:  [0.99198643]\n",
      "    fold  2:  [0.99209288]\n",
      "    fold  3:  [0.99279263]\n",
      "    fold  4:  [0.99204606]\n",
      "    ----\n",
      "    MEAN:     [0.99221214] + [0.00029480]\n",
      "    FULL:     [0.99221093]\n",
      "\n",
      "CPU times: user 6h 2min 8s, sys: 15min 45s, total: 6h 17min 54s\n",
      "Wall time: 1h 1min 35s\n"
     ]
    }
   ],
   "source": [
    "%%time\n",
    "\n",
    "S_train, S_valid = stacking(models,\n",
    "                               X_train, y_train, X_test,\n",
    "                               regression=False,\n",
    "                               mode='oof_pred_bag', \n",
    "                               needs_proba=True,\n",
    "                               metric=roc_auc_score_cust,\n",
    "                               n_folds=5,                \n",
    "                               stratified=True,          \n",
    "                               shuffle=True,             \n",
    "                               random_state=123,         \n",
    "                               verbose=2)                "
   ]
  },
  {
   "cell_type": "code",
   "execution_count": 31,
   "metadata": {},
   "outputs": [
    {
     "name": "stdout",
     "output_type": "stream",
     "text": [
      "RandomForestClassifier: 0.9756715202157986\n",
      "RandomForestClassifier: 0.9671345704339335\n"
     ]
    },
    {
     "name": "stderr",
     "output_type": "stream",
     "text": [
      "/Users/aleksandrpolakov/anaconda3/lib/python3.6/site-packages/sklearn/linear_model/logistic.py:1228: UserWarning: 'n_jobs' > 1 does not have any effect when 'solver' is set to 'liblinear'. Got 'n_jobs' = -1.\n",
      "  \" = {}.\".format(self.n_jobs))\n"
     ]
    },
    {
     "name": "stdout",
     "output_type": "stream",
     "text": [
      "LogisticRegression: 0.9880950197174555\n"
     ]
    },
    {
     "name": "stderr",
     "output_type": "stream",
     "text": [
      "/Users/aleksandrpolakov/anaconda3/lib/python3.6/site-packages/sklearn/linear_model/logistic.py:1228: UserWarning: 'n_jobs' > 1 does not have any effect when 'solver' is set to 'liblinear'. Got 'n_jobs' = -1.\n",
      "  \" = {}.\".format(self.n_jobs))\n"
     ]
    },
    {
     "name": "stdout",
     "output_type": "stream",
     "text": [
      "LogisticRegression: 0.9881096008271006\n",
      "RandomForestClassifier: 0.9928749429055053\n",
      "CPU times: user 1h 40min 23s, sys: 1min 35s, total: 1h 41min 58s\n",
      "Wall time: 12min 7s\n"
     ]
    }
   ],
   "source": [
    "%%time\n",
    "\n",
    "for model in models:\n",
    "    model.fit(X_train, y_train)\n",
    "    y_hat = model.predict_proba(X_test)\n",
    "    score = roc_auc_score(y_test, y_hat[:, 1])\n",
    "    print('{}: {}'.format(model.__str__().split('(')[0], score))"
   ]
  },
  {
   "cell_type": "code",
   "execution_count": 33,
   "metadata": {},
   "outputs": [
    {
     "name": "stdout",
     "output_type": "stream",
     "text": [
      "CPU times: user 47 µs, sys: 112 µs, total: 159 µs\n",
      "Wall time: 164 µs\n"
     ]
    }
   ],
   "source": [
    "%%time\n",
    "from sklearn.ensemble import GradientBoostingClassifier\n",
    "last_model = GradientBoostingClassifier(n_estimators=300, max_depth=3,\n",
    "                                       learning_rate=0.01, \n",
    "                                       random_state=123)"
   ]
  },
  {
   "cell_type": "code",
   "execution_count": 35,
   "metadata": {},
   "outputs": [
    {
     "name": "stdout",
     "output_type": "stream",
     "text": [
      "CPU times: user 43.7 s, sys: 257 ms, total: 44 s\n",
      "Wall time: 44 s\n"
     ]
    }
   ],
   "source": [
    "%%time\n",
    "last_model.fit(S_train, y_train)\n",
    "y_hat = last_model.predict_proba(S_valid)\n",
    "roc_auc_score(y_test, y_hat[:, 1])"
   ]
  },
  {
   "cell_type": "code",
   "execution_count": 36,
   "metadata": {},
   "outputs": [
    {
     "data": {
      "text/plain": [
       "0.99384697253693055"
      ]
     },
     "execution_count": 36,
     "metadata": {},
     "output_type": "execute_result"
    }
   ],
   "source": [
    "roc_auc_score(y_test, y_hat[:, 1])"
   ]
  },
  {
   "cell_type": "code",
   "execution_count": 44,
   "metadata": {},
   "outputs": [
    {
     "name": "stdout",
     "output_type": "stream",
     "text": [
      "#################### >>> Stacking <<< #################### \n",
      "              precision    recall  f1-score   support\n",
      "\n",
      "          0       0.98      0.96      0.97     21268\n",
      "          1       0.96      0.97      0.97     18732\n",
      "\n",
      "avg / total       0.97      0.97      0.97     40000\n",
      " \n",
      "\n",
      "CPU times: user 169 ms, sys: 1.62 ms, total: 170 ms\n",
      "Wall time: 169 ms\n"
     ]
    }
   ],
   "source": [
    "%%time\n",
    "# прошлый результаты были 0.97 0.97 0.97\n",
    "predict = last_model.predict(S_valid)\n",
    "\n",
    "print('#'*20,'>>> Stacking <<<','#'*20,'\\n',classification_report(y_test, predict),'\\n')"
   ]
  },
  {
   "cell_type": "code",
   "execution_count": 41,
   "metadata": {},
   "outputs": [
    {
     "data": {
      "text/plain": [
       "(160000, 10)"
      ]
     },
     "execution_count": 41,
     "metadata": {},
     "output_type": "execute_result"
    }
   ],
   "source": [
    "S_train.shape"
   ]
  },
  {
   "cell_type": "code",
   "execution_count": 42,
   "metadata": {},
   "outputs": [
    {
     "data": {
      "text/plain": [
       "(40000, 10)"
      ]
     },
     "execution_count": 42,
     "metadata": {},
     "output_type": "execute_result"
    }
   ],
   "source": [
    "S_valid.shape"
   ]
  },
  {
   "cell_type": "markdown",
   "metadata": {},
   "source": [
    "### Шаг 4. Готовим файл к отправке"
   ]
  },
  {
   "cell_type": "code",
   "execution_count": 45,
   "metadata": {},
   "outputs": [
    {
     "data": {
      "text/plain": [
       "(170179, 4)"
      ]
     },
     "execution_count": 45,
     "metadata": {},
     "output_type": "execute_result"
    }
   ],
   "source": [
    "test_df['concat'] = test_df['name']+' '+ test_df['description']\n",
    "\n",
    "test_df.shape"
   ]
  },
  {
   "cell_type": "code",
   "execution_count": 46,
   "metadata": {},
   "outputs": [],
   "source": [
    "num_test_vacs = len(test_df['concat'])"
   ]
  },
  {
   "cell_type": "code",
   "execution_count": 47,
   "metadata": {},
   "outputs": [
    {
     "name": "stdout",
     "output_type": "stream",
     "text": [
      "Очищаем и собираем нормализованные описания из test_df...\n",
      "\n",
      "Описание 10000 из 170179 в обработке... 6%\n",
      "Описание 20000 из 170179 в обработке... 12%\n",
      "Описание 30000 из 170179 в обработке... 18%\n",
      "Описание 40000 из 170179 в обработке... 24%\n",
      "Описание 50000 из 170179 в обработке... 29%\n",
      "Описание 60000 из 170179 в обработке... 35%\n",
      "Описание 70000 из 170179 в обработке... 41%\n",
      "Описание 80000 из 170179 в обработке... 47%\n",
      "Описание 90000 из 170179 в обработке... 53%\n",
      "Описание 100000 из 170179 в обработке... 59%\n",
      "Описание 110000 из 170179 в обработке... 65%\n",
      "Описание 120000 из 170179 в обработке... 71%\n",
      "Описание 130000 из 170179 в обработке... 76%\n",
      "Описание 140000 из 170179 в обработке... 82%\n",
      "Описание 150000 из 170179 в обработке... 88%\n",
      "Описание 160000 из 170179 в обработке... 94%\n",
      "Описание 170000 из 170179 в обработке... 100%\n",
      "Я закончила!!!\n",
      "CPU times: user 15min 41s, sys: 3min, total: 18min 41s\n",
      "Wall time: 30min 56s\n"
     ]
    }
   ],
   "source": [
    "%%time\n",
    "clean_test_vacs = []\n",
    "print ('Очищаем и собираем нормализованные описания из test_df...\\n')\n",
    "for i in range(0,num_test_vacs):\n",
    "    if( (i+1) % 10000 == 0 ):\n",
    "        print ('Описание {} из {} в обработке... {:.0%}'.format( i+1, num_test_vacs, (i+1)/num_test_vacs )) \n",
    "    clean_test_vacs.append( vac_to_words( test_df['concat'][i] ) )\n",
    "print('Я закончила!!!')"
   ]
  },
  {
   "cell_type": "code",
   "execution_count": 48,
   "metadata": {},
   "outputs": [
    {
     "name": "stdout",
     "output_type": "stream",
     "text": [
      "CPU times: user 16 s, sys: 4.46 s, total: 20.4 s\n",
      "Wall time: 20.7 s\n"
     ]
    }
   ],
   "source": [
    "%%time\n",
    "# Фигачим bag of words по тестовым данным\n",
    "\n",
    "test_data_features = vectorizer.transform(clean_test_vacs)\n",
    "test_data_features = test_data_features.toarray()"
   ]
  },
  {
   "cell_type": "code",
   "execution_count": 49,
   "metadata": {},
   "outputs": [
    {
     "name": "stdout",
     "output_type": "stream",
     "text": [
      "task:         [classification]\n",
      "n_classes:    [2]\n",
      "metric:       [roc_auc_score_cust]\n",
      "mode:         [oof_pred_bag]\n",
      "n_models:     [5]\n",
      "\n",
      "model  0:     [RandomForestClassifier]\n",
      "    fold  0:  [0.97477843]\n",
      "    fold  1:  [0.97510637]\n",
      "    fold  2:  [0.97620028]\n",
      "    fold  3:  [0.97543412]\n",
      "    fold  4:  [0.97602449]\n",
      "    ----\n",
      "    MEAN:     [0.97550874] + [0.00053760]\n",
      "    FULL:     [0.97550135]\n",
      "\n",
      "model  1:     [RandomForestClassifier]\n",
      "    fold  0:  [0.96724913]\n",
      "    fold  1:  [0.96517289]\n",
      "    fold  2:  [0.96605382]\n",
      "    fold  3:  [0.96866251]\n",
      "    fold  4:  [0.96382720]\n",
      "    ----\n",
      "    MEAN:     [0.96619311] + [0.00166559]\n",
      "    FULL:     [0.96620111]\n",
      "\n",
      "model  2:     [LogisticRegression]\n"
     ]
    },
    {
     "name": "stderr",
     "output_type": "stream",
     "text": [
      "/Users/aleksandrpolakov/anaconda3/lib/python3.6/site-packages/sklearn/linear_model/logistic.py:1228: UserWarning: 'n_jobs' > 1 does not have any effect when 'solver' is set to 'liblinear'. Got 'n_jobs' = -1.\n",
      "  \" = {}.\".format(self.n_jobs))\n"
     ]
    },
    {
     "name": "stdout",
     "output_type": "stream",
     "text": [
      "    fold  0:  [0.98843013]\n"
     ]
    },
    {
     "name": "stderr",
     "output_type": "stream",
     "text": [
      "/Users/aleksandrpolakov/anaconda3/lib/python3.6/site-packages/sklearn/linear_model/logistic.py:1228: UserWarning: 'n_jobs' > 1 does not have any effect when 'solver' is set to 'liblinear'. Got 'n_jobs' = -1.\n",
      "  \" = {}.\".format(self.n_jobs))\n"
     ]
    },
    {
     "name": "stdout",
     "output_type": "stream",
     "text": [
      "    fold  1:  [0.98776716]\n"
     ]
    },
    {
     "name": "stderr",
     "output_type": "stream",
     "text": [
      "/Users/aleksandrpolakov/anaconda3/lib/python3.6/site-packages/sklearn/linear_model/logistic.py:1228: UserWarning: 'n_jobs' > 1 does not have any effect when 'solver' is set to 'liblinear'. Got 'n_jobs' = -1.\n",
      "  \" = {}.\".format(self.n_jobs))\n"
     ]
    },
    {
     "name": "stdout",
     "output_type": "stream",
     "text": [
      "    fold  2:  [0.98858922]\n"
     ]
    },
    {
     "name": "stderr",
     "output_type": "stream",
     "text": [
      "/Users/aleksandrpolakov/anaconda3/lib/python3.6/site-packages/sklearn/linear_model/logistic.py:1228: UserWarning: 'n_jobs' > 1 does not have any effect when 'solver' is set to 'liblinear'. Got 'n_jobs' = -1.\n",
      "  \" = {}.\".format(self.n_jobs))\n"
     ]
    },
    {
     "name": "stdout",
     "output_type": "stream",
     "text": [
      "    fold  3:  [0.98810779]\n"
     ]
    },
    {
     "name": "stderr",
     "output_type": "stream",
     "text": [
      "/Users/aleksandrpolakov/anaconda3/lib/python3.6/site-packages/sklearn/linear_model/logistic.py:1228: UserWarning: 'n_jobs' > 1 does not have any effect when 'solver' is set to 'liblinear'. Got 'n_jobs' = -1.\n",
      "  \" = {}.\".format(self.n_jobs))\n"
     ]
    },
    {
     "name": "stdout",
     "output_type": "stream",
     "text": [
      "    fold  4:  [0.98842298]\n",
      "    ----\n",
      "    MEAN:     [0.98826346] + [0.00029322]\n",
      "    FULL:     [0.98826682]\n",
      "\n",
      "model  3:     [LogisticRegression]\n"
     ]
    },
    {
     "name": "stderr",
     "output_type": "stream",
     "text": [
      "/Users/aleksandrpolakov/anaconda3/lib/python3.6/site-packages/sklearn/linear_model/logistic.py:1228: UserWarning: 'n_jobs' > 1 does not have any effect when 'solver' is set to 'liblinear'. Got 'n_jobs' = -1.\n",
      "  \" = {}.\".format(self.n_jobs))\n"
     ]
    },
    {
     "name": "stdout",
     "output_type": "stream",
     "text": [
      "    fold  0:  [0.98846852]\n"
     ]
    },
    {
     "name": "stderr",
     "output_type": "stream",
     "text": [
      "/Users/aleksandrpolakov/anaconda3/lib/python3.6/site-packages/sklearn/linear_model/logistic.py:1228: UserWarning: 'n_jobs' > 1 does not have any effect when 'solver' is set to 'liblinear'. Got 'n_jobs' = -1.\n",
      "  \" = {}.\".format(self.n_jobs))\n"
     ]
    },
    {
     "name": "stdout",
     "output_type": "stream",
     "text": [
      "    fold  1:  [0.98779512]\n"
     ]
    },
    {
     "name": "stderr",
     "output_type": "stream",
     "text": [
      "/Users/aleksandrpolakov/anaconda3/lib/python3.6/site-packages/sklearn/linear_model/logistic.py:1228: UserWarning: 'n_jobs' > 1 does not have any effect when 'solver' is set to 'liblinear'. Got 'n_jobs' = -1.\n",
      "  \" = {}.\".format(self.n_jobs))\n"
     ]
    },
    {
     "name": "stdout",
     "output_type": "stream",
     "text": [
      "    fold  2:  [0.98859456]\n"
     ]
    },
    {
     "name": "stderr",
     "output_type": "stream",
     "text": [
      "/Users/aleksandrpolakov/anaconda3/lib/python3.6/site-packages/sklearn/linear_model/logistic.py:1228: UserWarning: 'n_jobs' > 1 does not have any effect when 'solver' is set to 'liblinear'. Got 'n_jobs' = -1.\n",
      "  \" = {}.\".format(self.n_jobs))\n"
     ]
    },
    {
     "name": "stdout",
     "output_type": "stream",
     "text": [
      "    fold  3:  [0.98811866]\n"
     ]
    },
    {
     "name": "stderr",
     "output_type": "stream",
     "text": [
      "/Users/aleksandrpolakov/anaconda3/lib/python3.6/site-packages/sklearn/linear_model/logistic.py:1228: UserWarning: 'n_jobs' > 1 does not have any effect when 'solver' is set to 'liblinear'. Got 'n_jobs' = -1.\n",
      "  \" = {}.\".format(self.n_jobs))\n"
     ]
    },
    {
     "name": "stdout",
     "output_type": "stream",
     "text": [
      "    fold  4:  [0.98845646]\n",
      "    ----\n",
      "    MEAN:     [0.98828667] + [0.00029208]\n",
      "    FULL:     [0.98828939]\n",
      "\n",
      "model  4:     [RandomForestClassifier]\n",
      "    fold  0:  [0.99258269]\n",
      "    fold  1:  [0.99203233]\n",
      "    fold  2:  [0.99281011]\n",
      "    fold  3:  [0.99297267]\n",
      "    fold  4:  [0.99299781]\n",
      "    ----\n",
      "    MEAN:     [0.99267912] + [0.00035568]\n",
      "    FULL:     [0.99267796]\n",
      "\n",
      "CPU times: user 7h 57min 43s, sys: 29min 38s, total: 8h 27min 22s\n",
      "Wall time: 1h 39min 17s\n"
     ]
    }
   ],
   "source": [
    "%%time\n",
    "# просто содрал с лекции Эдуарда. Если метод сработает - \n",
    "# надо одолеть Эдуарда вопросами про параметры, которые мы тут передаём\n",
    "S_train, S_valid = stacking(models,\n",
    "                               train_data_features, train_df['target'], test_data_features,\n",
    "                               regression=False,\n",
    "                               mode='oof_pred_bag', \n",
    "                               needs_proba=True,\n",
    "                               metric=roc_auc_score_cust,\n",
    "                               n_folds=5,                \n",
    "                               stratified=True,          \n",
    "                               shuffle=True,             \n",
    "                               random_state=123,         \n",
    "                               verbose=2)   "
   ]
  },
  {
   "cell_type": "code",
   "execution_count": 50,
   "metadata": {},
   "outputs": [],
   "source": [
    "last_model = GradientBoostingClassifier(n_estimators=300, max_depth=3,\n",
    "                                       learning_rate=0.01, \n",
    "                                       random_state=123)"
   ]
  },
  {
   "cell_type": "code",
   "execution_count": 51,
   "metadata": {},
   "outputs": [
    {
     "data": {
      "text/plain": [
       "GradientBoostingClassifier(criterion='friedman_mse', init=None,\n",
       "              learning_rate=0.01, loss='deviance', max_depth=3,\n",
       "              max_features=None, max_leaf_nodes=None,\n",
       "              min_impurity_decrease=0.0, min_impurity_split=None,\n",
       "              min_samples_leaf=1, min_samples_split=2,\n",
       "              min_weight_fraction_leaf=0.0, n_estimators=300,\n",
       "              presort='auto', random_state=123, subsample=1.0, verbose=0,\n",
       "              warm_start=False)"
      ]
     },
     "execution_count": 51,
     "metadata": {},
     "output_type": "execute_result"
    }
   ],
   "source": [
    "last_model.fit(S_train, train_df['target'])"
   ]
  },
  {
   "cell_type": "code",
   "execution_count": 52,
   "metadata": {},
   "outputs": [],
   "source": [
    "result_test = last_model.predict(S_valid)"
   ]
  },
  {
   "cell_type": "code",
   "execution_count": 53,
   "metadata": {},
   "outputs": [
    {
     "data": {
      "text/html": [
       "<div>\n",
       "<style scoped>\n",
       "    .dataframe tbody tr th:only-of-type {\n",
       "        vertical-align: middle;\n",
       "    }\n",
       "\n",
       "    .dataframe tbody tr th {\n",
       "        vertical-align: top;\n",
       "    }\n",
       "\n",
       "    .dataframe thead th {\n",
       "        text-align: right;\n",
       "    }\n",
       "</style>\n",
       "<table border=\"1\" class=\"dataframe\">\n",
       "  <thead>\n",
       "    <tr style=\"text-align: right;\">\n",
       "      <th></th>\n",
       "      <th>id</th>\n",
       "      <th>target</th>\n",
       "    </tr>\n",
       "  </thead>\n",
       "  <tbody>\n",
       "    <tr>\n",
       "      <th>0</th>\n",
       "      <td>200000</td>\n",
       "      <td>1</td>\n",
       "    </tr>\n",
       "    <tr>\n",
       "      <th>1</th>\n",
       "      <td>200001</td>\n",
       "      <td>1</td>\n",
       "    </tr>\n",
       "    <tr>\n",
       "      <th>2</th>\n",
       "      <td>200002</td>\n",
       "      <td>1</td>\n",
       "    </tr>\n",
       "    <tr>\n",
       "      <th>3</th>\n",
       "      <td>200003</td>\n",
       "      <td>1</td>\n",
       "    </tr>\n",
       "    <tr>\n",
       "      <th>4</th>\n",
       "      <td>200004</td>\n",
       "      <td>0</td>\n",
       "    </tr>\n",
       "  </tbody>\n",
       "</table>\n",
       "</div>"
      ],
      "text/plain": [
       "       id  target\n",
       "0  200000       1\n",
       "1  200001       1\n",
       "2  200002       1\n",
       "3  200003       1\n",
       "4  200004       0"
      ]
     },
     "execution_count": 53,
     "metadata": {},
     "output_type": "execute_result"
    }
   ],
   "source": [
    "# Копируем результат в датафрейм с полями id и target \n",
    "# предыдущий реузльтат был таким http://take.ms/cVRK4\n",
    "output = pd.DataFrame( data={'id':test_df['id'], 'target':result_test} )\n",
    "output.head()"
   ]
  },
  {
   "cell_type": "code",
   "execution_count": 54,
   "metadata": {},
   "outputs": [],
   "source": [
    "output.to_csv( \"Stacking_10000mystem-and-names.csv\", sep=',', encoding='utf-8',index=False )"
   ]
  },
  {
   "cell_type": "code",
   "execution_count": null,
   "metadata": {},
   "outputs": [],
   "source": []
  }
 ],
 "metadata": {
  "kernelspec": {
   "display_name": "Python 3",
   "language": "python",
   "name": "python3"
  },
  "language_info": {
   "codemirror_mode": {
    "name": "ipython",
    "version": 3
   },
   "file_extension": ".py",
   "mimetype": "text/x-python",
   "name": "python",
   "nbconvert_exporter": "python",
   "pygments_lexer": "ipython3",
   "version": "3.6.5"
  }
 },
 "nbformat": 4,
 "nbformat_minor": 2
}
